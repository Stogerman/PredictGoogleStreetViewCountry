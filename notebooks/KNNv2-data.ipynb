{
 "cells": [
  {
   "cell_type": "code",
   "execution_count": 2,
   "id": "approved-karaoke",
   "metadata": {},
   "outputs": [],
   "source": [
    "from sklearn import preprocessing, datasets, neighbors\n",
    "from sklearn.model_selection import train_test_split, cross_val_predict\n",
    "from sklearn.neighbors import KNeighborsClassifier\n",
    "import matplotlib.pyplot as plt\n",
    "import seaborn as sns\n",
    "import pandas as pd\n",
    "import pathlib\n",
    "import numpy as np\n",
    "from keras.preprocessing import image\n",
    "from skimage.io import imread\n",
    "import cv2 as cv\n",
    "from mlxtend.plotting import plot_decision_regions"
   ]
  },
  {
   "cell_type": "code",
   "execution_count": 3,
   "id": "single-billy",
   "metadata": {},
   "outputs": [],
   "source": [
    "def load_image_files(container_path):\n",
    "    image_dir = pathlib.Path(container_path)\n",
    "    folders = [directory for directory in image_dir.iterdir() if directory.is_dir()]\n",
    "    categories = [fo.name for fo in folders]\n",
    "\n",
    "    descr = \"A image classification dataset\"\n",
    "    images = []\n",
    "    flat_data = []\n",
    "    target = []\n",
    "    count = 0\n",
    "    train_img = []\n",
    "    train_label = []\n",
    "    for i, direc in enumerate(folders):\n",
    "        for file in direc.iterdir():\n",
    "            count += 1\n",
    "            img = imread(file)\n",
    "            img_pred = cv.resize(img, (150, 150), interpolation=cv.INTER_AREA)\n",
    "            img_pred = image.img_to_array(img_pred)\n",
    "            img_pred = img_pred / 255\n",
    "            train_img.append(img_pred)\n",
    "            train_label.append(i)\n",
    "\n",
    "    X = np.array(train_img)\n",
    "    y = np.array(train_label)\n",
    "    catStringArr = np.array(categories)\n",
    "\n",
    "    return X, y, catStringArr\n"
   ]
  },
  {
   "cell_type": "code",
   "execution_count": 4,
   "id": "ongoing-tours",
   "metadata": {},
   "outputs": [],
   "source": [
    "X = []\n",
    "y = []\n",
    "X, y, labelStringArr = load_image_files(\"/home/pascal_steiger/Downloads/data/\")"
   ]
  },
  {
   "cell_type": "code",
   "execution_count": 5,
   "id": "allied-dutch",
   "metadata": {},
   "outputs": [
    {
     "name": "stdout",
     "output_type": "stream",
     "text": [
      "X_train: (21234, 150, 150, 3)\n",
      "X_test: (5309, 150, 150, 3)\n",
      "y_train: (21234,)\n",
      "y_test: (5309,)\n",
      "X_train: (21234, 67500)\n",
      "X_test: (5309, 67500)\n",
      "y_train: (21234,)\n",
      "y_test: (5309,)\n"
     ]
    }
   ],
   "source": [
    "X_train, X_test, y_train, y_test = train_test_split(X, y, random_state=42, test_size=0.2)\n",
    "print(\"X_train: \"+str(X_train.shape))\n",
    "print(\"X_test: \"+str(X_test.shape))\n",
    "print(\"y_train: \"+str(y_train.shape))\n",
    "print(\"y_test: \"+str(y_test.shape))\n",
    "\n",
    "from builtins import range\n",
    "from builtins import object\n",
    "\n",
    "num_training = X_train.shape[0]\n",
    "mask = list(range(num_training))\n",
    "X_train = X_train[mask]\n",
    "y_train = y_train[mask]\n",
    "\n",
    "num_test = X_test.shape[0]\n",
    "mask = list(range(num_test))\n",
    "X_test = X_test[mask]\n",
    "y_test = y_test[mask]\n",
    "\n",
    "# Reshape the image data into rows\n",
    "X_train = np.reshape(X_train, (X_train.shape[0], -1))\n",
    "X_test = np.reshape(X_test, (X_test.shape[0], -1))\n",
    "\n",
    "print(\"X_train: \"+str(X_train.shape))\n",
    "print(\"X_test: \"+str(X_test.shape))\n",
    "print(\"y_train: \"+str(y_train.shape))\n",
    "print(\"y_test: \"+str(y_test.shape))"
   ]
  },
  {
   "cell_type": "code",
   "execution_count": 6,
   "id": "backed-superior",
   "metadata": {},
   "outputs": [
    {
     "data": {
      "image/png": "[encoded data removed]",
      "text/plain": [
       "<Figure size 432x288 with 1 Axes>"
      ]
     },
     "metadata": {
      "needs_background": "light"
     },
     "output_type": "display_data"
    },
    {
     "name": "stdout",
     "output_type": "stream",
     "text": [
      "max acc at k=49 acc of 0.12582407233000564\n"
     ]
    }
   ],
   "source": [
    "lix = []\n",
    "liy = []\n",
    "index=0\n",
    "acc=0\n",
    "from sklearn.neighbors import KNeighborsClassifier\n",
    "for k in range(1, 100):\n",
    "    neigh = KNeighborsClassifier(n_neighbors=k)\n",
    "    neigh.fit(X_train, y_train)\n",
    "    liy.append(neigh.score(X_test, y_test))\n",
    "    if liy[k-1]>acc:\n",
    "        acc=liy[k-1]\n",
    "        index=k-1\n",
    "    lix.append(k)\n",
    "\n",
    "plt.plot(lix, liy)\n",
    "plt.show()\n",
    "print(\"max acc at k=\"+str(index+1)+\" acc of \"+str(acc))"
   ]
  },
  {
   "cell_type": "code",
   "execution_count": null,
   "id": "junior-spine",
   "metadata": {},
   "outputs": [],
   "source": []
  }
 ],
 "metadata": {
  "kernelspec": {
   "display_name": "Python 3",
   "language": "python",
   "name": "python3"
  },
  "language_info": {
   "codemirror_mode": {
    "name": "ipython",
    "version": 3
   },
   "file_extension": ".py",
   "mimetype": "text/x-python",
   "name": "python",
   "nbconvert_exporter": "python",
   "pygments_lexer": "ipython3",
   "version": "3.8.8"
  }
 },
 "nbformat": 4,
 "nbformat_minor": 5
}
