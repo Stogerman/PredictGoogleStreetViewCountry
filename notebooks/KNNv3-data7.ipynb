{
 "cells": [
  {
   "cell_type": "code",
   "execution_count": 1,
   "id": "approved-karaoke",
   "metadata": {},
   "outputs": [],
   "source": [
    "from sklearn import preprocessing, datasets, neighbors\n",
    "from sklearn.model_selection import train_test_split, cross_val_predict\n",
    "from sklearn.neighbors import KNeighborsClassifier\n",
    "import matplotlib.pyplot as plt\n",
    "import seaborn as sns\n",
    "import pandas as pd\n",
    "import pathlib\n",
    "import os\n",
    "import numpy as np\n",
    "from keras.preprocessing import image\n",
    "from skimage.io import imread\n",
    "import cv2 as cv\n",
    "from mlxtend.plotting import plot_decision_regions"
   ]
  },
  {
   "cell_type": "code",
   "execution_count": 2,
   "id": "single-billy",
   "metadata": {},
   "outputs": [],
   "source": [
    "def load_image_files(container_path):\n",
    "    image_dir = pathlib.Path(container_path)\n",
    "    folders = [directory for directory in image_dir.iterdir() if directory.is_dir()]\n",
    "    categories = [fo.name for fo in folders]\n",
    "\n",
    "    descr = \"A image classification dataset\"\n",
    "    images = []\n",
    "    flat_data = []\n",
    "    target = []\n",
    "    count = 0\n",
    "    train_img = []\n",
    "    train_label = []\n",
    "    catStringArr = []\n",
    "    for i, direc in enumerate(folders):\n",
    "        for file in direc.iterdir():\n",
    "            count += 1\n",
    "            img = imread(file)\n",
    "            img_pred = get_channels_hist_of_img(img)\n",
    "            train_img.append(img_pred)\n",
    "            train_label.append(os.path.basename(os.path.normpath(direc)))\n",
    "            \n",
    "\n",
    "    X = np.array(train_img)\n",
    "    y = np.array(train_label)\n",
    "\n",
    "    return X, y, categories\n"
   ]
  },
  {
   "cell_type": "code",
   "execution_count": 3,
   "id": "1f5f25cd",
   "metadata": {},
   "outputs": [],
   "source": [
    "def get_channels_hist_of_img(image):\n",
    "    blue = cv.calcHist([image],[0],None,[256],[0,256])\n",
    "    green = cv.calcHist([image],[1],None,[256],[0,256])\n",
    "    red = cv.calcHist([image],[2],None,[256],[0,256])\n",
    "    return [blue, green, red]"
   ]
  },
  {
   "cell_type": "code",
   "execution_count": 4,
   "id": "ongoing-tours",
   "metadata": {},
   "outputs": [],
   "source": [
    "X = []\n",
    "y = []\n",
    "X, y, labelStringArr = load_image_files(\"/home/pascal_steiger/Downloads/data7/\")"
   ]
  },
  {
   "cell_type": "code",
   "execution_count": 5,
   "id": "allied-dutch",
   "metadata": {},
   "outputs": [
    {
     "name": "stdout",
     "output_type": "stream",
     "text": [
      "['MKD', 'ISL', 'ITA', 'GBR', 'FIN', 'PRT', 'CHE']\n",
      "X_train: (5611, 3, 256, 1)\n",
      "X_test: (1403, 3, 256, 1)\n",
      "y_train: (5611,)\n",
      "y_test: (1403,)\n",
      "X_train: (5611, 768)\n",
      "X_test: (1403, 768)\n",
      "y_train: (5611,)\n",
      "y_test: (1403,)\n"
     ]
    }
   ],
   "source": [
    "X_train, X_test, y_train, y_test = train_test_split(X, y, random_state=42, test_size=0.2)\n",
    "print(labelStringArr)\n",
    "print(\"X_train: \"+str(X_train.shape))\n",
    "print(\"X_test: \"+str(X_test.shape))\n",
    "print(\"y_train: \"+str(y_train.shape))\n",
    "print(\"y_test: \"+str(y_test.shape))\n",
    "\n",
    "from builtins import range\n",
    "from builtins import object\n",
    "\n",
    "num_training = X_train.shape[0]\n",
    "mask = list(range(num_training))\n",
    "X_train = X_train[mask]\n",
    "y_train = y_train[mask]\n",
    "\n",
    "num_test = X_test.shape[0]\n",
    "mask = list(range(num_test))\n",
    "X_test = X_test[mask]\n",
    "y_test = y_test[mask]\n",
    "\n",
    "# Reshape the image data into rows\n",
    "X_train = np.reshape(X_train, (X_train.shape[0], -1))\n",
    "X_test = np.reshape(X_test, (X_test.shape[0], -1))\n",
    "\n",
    "print(\"X_train: \"+str(X_train.shape))\n",
    "print(\"X_test: \"+str(X_test.shape))\n",
    "print(\"y_train: \"+str(y_train.shape))\n",
    "print(\"y_test: \"+str(y_test.shape))"
   ]
  },
  {
   "cell_type": "code",
   "execution_count": 6,
   "id": "backed-superior",
   "metadata": {},
   "outputs": [],
   "source": [
    "lix = []\n",
    "liy = []\n",
    "index=0\n",
    "acc=0\n",
    "from sklearn.neighbors import KNeighborsClassifier\n",
    "for k in range(1, 100):\n",
    "    neigh = KNeighborsClassifier(n_neighbors=k)\n",
    "    neigh.fit(X_train, y_train)\n",
    "    liy.append(neigh.score(X_test, y_test))\n",
    "    if liy[k-1]>acc:\n",
    "        acc=liy[k-1]\n",
    "        index=k-1\n",
    "    lix.append(k)"
   ]
  },
  {
   "cell_type": "code",
   "execution_count": 12,
   "id": "399a353c",
   "metadata": {},
   "outputs": [
    {
     "data": {
      "image/png": "[encoded data removed]",
      "text/plain": [
       "<Figure size 432x288 with 1 Axes>"
      ]
     },
     "metadata": {
      "needs_background": "light"
     },
     "output_type": "display_data"
    },
    {
     "name": "stdout",
     "output_type": "stream",
     "text": [
      "Maximale Genauigkeit bei k=9 und einer Genauigkeit von 0.43121881682109764\n"
     ]
    }
   ],
   "source": [
    "plt.plot(lix, liy)\n",
    "plt.xlabel(\"Anzahl betrachteter Nachbarn\")\n",
    "plt.ylabel(\"Genauigkeit\")\n",
    "plt.savefig(\"KNNv3-data7.png\", dpi=300)\n",
    "plt.show()\n",
    "print(\"Maximale Genauigkeit bei k=\"+str(index+1)+\" und einer Genauigkeit von \"+str(acc))"
   ]
  },
  {
   "cell_type": "code",
   "execution_count": 10,
   "id": "agreed-simpson",
   "metadata": {},
   "outputs": [
    {
     "name": "stdout",
     "output_type": "stream",
     "text": [
      "Test Accuracy: 0.43121881682109764\n"
     ]
    }
   ],
   "source": [
    "neigh = KNeighborsClassifier(n_neighbors=9)\n",
    "neigh.fit(X_train, y_train)\n",
    "print(\"Test Accuracy: \"+str(neigh.score(X_test, y_test)))"
   ]
  },
  {
   "cell_type": "code",
   "execution_count": 11,
   "id": "f0a64f99",
   "metadata": {},
   "outputs": [
    {
     "name": "stdout",
     "output_type": "stream",
     "text": [
      "['CHE', 'FIN', 'GBR', 'ISL', 'ITA', 'MKD', 'PRT']\n",
      "[[ 65  13  14  29  19  35  17]\n",
      " [ 29  89  26   9  22   6  17]\n",
      " [ 26  31  70  22  24  12  10]\n",
      " [ 14  14   3 171   3   8   2]\n",
      " [ 18  29  27  23  46  20  26]\n",
      " [ 33  10  12   8  19 103  18]\n",
      " [ 22  32  12  22  35  27  61]]\n"
     ]
    }
   ],
   "source": [
    "from sklearn.metrics import confusion_matrix\n",
    "preds = neigh.predict(X_test)\n",
    "print(sorted(labelStringArr))\n",
    "print(confusion_matrix(y_test, preds, labels=sorted(labelStringArr)))"
   ]
  },
  {
   "cell_type": "code",
   "execution_count": null,
   "id": "644ad003",
   "metadata": {},
   "outputs": [],
   "source": []
  }
 ],
 "metadata": {
  "kernelspec": {
   "display_name": "Python 3",
   "language": "python",
   "name": "python3"
  },
  "language_info": {
   "codemirror_mode": {
    "name": "ipython",
    "version": 3
   },
   "file_extension": ".py",
   "mimetype": "text/x-python",
   "name": "python",
   "nbconvert_exporter": "python",
   "pygments_lexer": "ipython3",
   "version": "3.8.8"
  }
 },
 "nbformat": 4,
 "nbformat_minor": 5
}
