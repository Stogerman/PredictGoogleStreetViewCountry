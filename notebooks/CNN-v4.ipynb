{
 "cells": [
  {
   "cell_type": "code",
   "execution_count": 1,
   "id": "requested-september",
   "metadata": {},
   "outputs": [],
   "source": [
    "import tensorflow as tf\n",
    "import pathlib\n",
    "import numpy as np\n",
    "import pandas as pd\n",
    "import os\n",
    "import matplotlib.pyplot as plt\n",
    "import seaborn as sns\n",
    "import cv2 as cv\n",
    "from sklearn.model_selection import train_test_split\n",
    "from tensorflow.keras import activations\n",
    "from tensorflow.keras.callbacks import Callback, EarlyStopping, ReduceLROnPlateau\n",
    "from tensorflow.keras.models import Sequential\n",
    "from tensorflow.keras.preprocessing.image import ImageDataGenerator\n",
    "from tensorflow.keras.layers import Flatten, Dense, Conv2D, MaxPooling2D, Input, SeparableConv2D, GlobalAveragePooling2D\n",
    "from tensorflow.keras.layers import Dropout, BatchNormalization, LeakyReLU, Activation, Add"
   ]
  },
  {
   "cell_type": "code",
   "execution_count": 2,
   "id": "growing-aspect",
   "metadata": {},
   "outputs": [
    {
     "data": {
      "text/plain": [
       "[PhysicalDevice(name='/physical_device:GPU:0', device_type='GPU'),\n",
       " PhysicalDevice(name='/physical_device:GPU:1', device_type='GPU')]"
      ]
     },
     "execution_count": 2,
     "metadata": {},
     "output_type": "execute_result"
    }
   ],
   "source": [
    "tf.config.list_physical_devices('GPU')"
   ]
  },
  {
   "cell_type": "code",
   "execution_count": 3,
   "id": "yellow-singing",
   "metadata": {},
   "outputs": [],
   "source": [
    "country_images_root = pathlib.Path(\"/home/pascal_steiger/Downloads/data7/\")"
   ]
  },
  {
   "cell_type": "code",
   "execution_count": 4,
   "id": "elegant-halifax",
   "metadata": {},
   "outputs": [],
   "source": [
    "def load_image_paths(container_path):\n",
    "    image_dir = pathlib.Path(container_path)\n",
    "    folders = [directory for directory in image_dir.iterdir() if directory.is_dir()]\n",
    "    categories = [fo.name for fo in folders]\n",
    "\n",
    "    descr = \"A image classification dataset\"\n",
    "    image_paths = []\n",
    "    flat_data = []\n",
    "    target = []\n",
    "    count = 0\n",
    "    train_img_path = []\n",
    "    train_label = []\n",
    "    for i, direc in enumerate(folders):\n",
    "        for file in direc.iterdir():\n",
    "            count += 1\n",
    "            train_img_path.append(str(file))\n",
    "            train_label.append(categories[i])\n",
    "\n",
    "    X = np.array(train_img_path)\n",
    "    y = np.array(train_label)\n",
    "    catStringArr = np.array(categories)\n",
    "\n",
    "    return X, y, catStringArr"
   ]
  },
  {
   "cell_type": "code",
   "execution_count": 5,
   "id": "exceptional-visibility",
   "metadata": {},
   "outputs": [
    {
     "data": {
      "text/html": [
       "<div>\n",
       "<style scoped>\n",
       "    .dataframe tbody tr th:only-of-type {\n",
       "        vertical-align: middle;\n",
       "    }\n",
       "\n",
       "    .dataframe tbody tr th {\n",
       "        vertical-align: top;\n",
       "    }\n",
       "\n",
       "    .dataframe thead th {\n",
       "        text-align: right;\n",
       "    }\n",
       "</style>\n",
       "<table border=\"1\" class=\"dataframe\">\n",
       "  <thead>\n",
       "    <tr style=\"text-align: right;\">\n",
       "      <th></th>\n",
       "      <th>path</th>\n",
       "      <th>label</th>\n",
       "    </tr>\n",
       "  </thead>\n",
       "  <tbody>\n",
       "    <tr>\n",
       "      <th>6027</th>\n",
       "      <td>/home/pascal_steiger/Downloads/data7/CHE/img_4...</td>\n",
       "      <td>CHE</td>\n",
       "    </tr>\n",
       "    <tr>\n",
       "      <th>2539</th>\n",
       "      <td>/home/pascal_steiger/Downloads/data7/ITA/img_I...</td>\n",
       "      <td>ITA</td>\n",
       "    </tr>\n",
       "    <tr>\n",
       "      <th>232</th>\n",
       "      <td>/home/pascal_steiger/Downloads/data7/MKD/img_M...</td>\n",
       "      <td>MKD</td>\n",
       "    </tr>\n",
       "    <tr>\n",
       "      <th>4893</th>\n",
       "      <td>/home/pascal_steiger/Downloads/data7/FIN/img_F...</td>\n",
       "      <td>FIN</td>\n",
       "    </tr>\n",
       "    <tr>\n",
       "      <th>5805</th>\n",
       "      <td>/home/pascal_steiger/Downloads/data7/PRT/img_P...</td>\n",
       "      <td>PRT</td>\n",
       "    </tr>\n",
       "    <tr>\n",
       "      <th>6346</th>\n",
       "      <td>/home/pascal_steiger/Downloads/data7/CHE/img_4...</td>\n",
       "      <td>CHE</td>\n",
       "    </tr>\n",
       "    <tr>\n",
       "      <th>3745</th>\n",
       "      <td>/home/pascal_steiger/Downloads/data7/GBR/img_5...</td>\n",
       "      <td>GBR</td>\n",
       "    </tr>\n",
       "    <tr>\n",
       "      <th>2379</th>\n",
       "      <td>/home/pascal_steiger/Downloads/data7/ITA/img_I...</td>\n",
       "      <td>ITA</td>\n",
       "    </tr>\n",
       "    <tr>\n",
       "      <th>6005</th>\n",
       "      <td>/home/pascal_steiger/Downloads/data7/PRT/img_P...</td>\n",
       "      <td>PRT</td>\n",
       "    </tr>\n",
       "    <tr>\n",
       "      <th>167</th>\n",
       "      <td>/home/pascal_steiger/Downloads/data7/MKD/img_M...</td>\n",
       "      <td>MKD</td>\n",
       "    </tr>\n",
       "  </tbody>\n",
       "</table>\n",
       "</div>"
      ],
      "text/plain": [
       "                                                   path label\n",
       "6027  /home/pascal_steiger/Downloads/data7/CHE/img_4...   CHE\n",
       "2539  /home/pascal_steiger/Downloads/data7/ITA/img_I...   ITA\n",
       "232   /home/pascal_steiger/Downloads/data7/MKD/img_M...   MKD\n",
       "4893  /home/pascal_steiger/Downloads/data7/FIN/img_F...   FIN\n",
       "5805  /home/pascal_steiger/Downloads/data7/PRT/img_P...   PRT\n",
       "6346  /home/pascal_steiger/Downloads/data7/CHE/img_4...   CHE\n",
       "3745  /home/pascal_steiger/Downloads/data7/GBR/img_5...   GBR\n",
       "2379  /home/pascal_steiger/Downloads/data7/ITA/img_I...   ITA\n",
       "6005  /home/pascal_steiger/Downloads/data7/PRT/img_P...   PRT\n",
       "167   /home/pascal_steiger/Downloads/data7/MKD/img_M...   MKD"
      ]
     },
     "execution_count": 5,
     "metadata": {},
     "output_type": "execute_result"
    }
   ],
   "source": [
    "X = []\n",
    "y = []\n",
    "X, y, labelStringArr = load_image_paths(\"/home/pascal_steiger/Downloads/data7/\")\n",
    "img_df = pd.DataFrame(zip(X, y), columns=[\"path\", \"label\"])\n",
    "\n",
    "img_df.sample(n=10)"
   ]
  },
  {
   "cell_type": "code",
   "execution_count": 6,
   "id": "rapid-vessel",
   "metadata": {},
   "outputs": [
    {
     "name": "stdout",
     "output_type": "stream",
     "text": [
      "                                                   path label\n",
      "5878  /home/pascal_steiger/Downloads/data7/PRT/img_P...   PRT\n",
      "1609  /home/pascal_steiger/Downloads/data7/ISL/img_I...   ISL\n",
      "395   /home/pascal_steiger/Downloads/data7/MKD/img_M...   MKD\n",
      "5317  /home/pascal_steiger/Downloads/data7/PRT/img_P...   PRT\n",
      "1432  /home/pascal_steiger/Downloads/data7/ISL/img_I...   ISL\n",
      "(5611, 2)\n",
      "                                                   path label\n",
      "4173  /home/pascal_steiger/Downloads/data7/FIN/img_F...   FIN\n",
      "2069  /home/pascal_steiger/Downloads/data7/ITA/img_I...   ITA\n",
      "2835  /home/pascal_steiger/Downloads/data7/ITA/img_I...   ITA\n",
      "486   /home/pascal_steiger/Downloads/data7/MKD/img_M...   MKD\n",
      "6368  /home/pascal_steiger/Downloads/data7/CHE/img_4...   CHE\n",
      "(1403, 2)\n"
     ]
    }
   ],
   "source": [
    "train_df, test_df = train_test_split(img_df, shuffle=True, test_size=0.2, random_state=42)\n",
    "\n",
    "\n",
    "print(train_df.sample(n=5))\n",
    "print(train_df.shape)\n",
    "print(test_df.sample(n=5))\n",
    "print(test_df.shape)"
   ]
  },
  {
   "cell_type": "code",
   "execution_count": 7,
   "id": "sexual-darwin",
   "metadata": {},
   "outputs": [],
   "source": [
    "train_datagen = ImageDataGenerator(\n",
    "    rescale=1./255,\n",
    "    rotation_range=15,\n",
    "    width_shift_range=0.15,\n",
    "    height_shift_range=0.15,\n",
    "    shear_range=0.15,\n",
    "    zoom_range=0.15,\n",
    "    horizontal_flip=True\n",
    ")\n",
    "\n",
    "test_datagen = ImageDataGenerator(rescale=1./255)"
   ]
  },
  {
   "cell_type": "code",
   "execution_count": 8,
   "id": "egyptian-painting",
   "metadata": {},
   "outputs": [
    {
     "name": "stdout",
     "output_type": "stream",
     "text": [
      "Found 5611 validated image filenames belonging to 7 classes.\n",
      "Found 1403 validated image filenames belonging to 7 classes.\n"
     ]
    }
   ],
   "source": [
    "train_generator = train_datagen.flow_from_dataframe(\n",
    "        dataframe=train_df,\n",
    "        x_col=\"path\",\n",
    "        y_col=\"label\",\n",
    "        target_size=(320, 320),\n",
    "        batch_size=32,\n",
    "        class_mode=\"sparse\",\n",
    "        seed=42\n",
    ")\n",
    "\n",
    "\n",
    "validation_generator = test_datagen.flow_from_dataframe(\n",
    "        dataframe=test_df,\n",
    "        x_col=\"path\",\n",
    "        y_col=\"label\",\n",
    "        target_size=(320, 320),\n",
    "        batch_size=32,\n",
    "        class_mode=\"sparse\",\n",
    "        seed=42\n",
    ")"
   ]
  },
  {
   "cell_type": "code",
   "execution_count": 22,
   "id": "0c6310b6",
   "metadata": {},
   "outputs": [],
   "source": [
    "I = Input(shape=(320,320,3), dtype=\"float32\")\n",
    "\n",
    "c2d1= Conv2D(32, (3, 3), (2, 2), activation=\"relu\")(I)\n",
    "b1 = BatchNormalization()(c2d1)\n",
    "c2d2= Conv2D(64, (3, 3), activation=\"relu\")(b1)\n",
    "b2 = BatchNormalization()(c2d2)\n",
    "\n",
    "c1d1= Conv2D(1, 1, (2, 2))(b2)\n",
    "b3 = BatchNormalization()(c1d1)\n",
    "\n",
    "sc2d1= SeparableConv2D(128, (3, 3), padding=\"same\")(b2)\n",
    "b4 = BatchNormalization()(sc2d1)\n",
    "relu1= Activation(activations.relu)(b4)\n",
    "sc2d2= SeparableConv2D(128, (3, 3), padding=\"same\")(relu1)\n",
    "b5 = BatchNormalization()(sc2d2)\n",
    "mp1= MaxPooling2D(pool_size=(3, 3), strides=(2, 2), padding=\"same\")(b5)\n",
    "\n",
    "add1 = Add()([b3, mp1])\n",
    "\n",
    "c1d2= Conv2D(1, 1, (2, 2))(add1)\n",
    "b6 = BatchNormalization()(c1d2)\n",
    "\n",
    "relu2= Activation(activations.relu)(add1)\n",
    "sc2d3= SeparableConv2D(256, (3, 3), padding=\"same\")(relu2)\n",
    "b7 = BatchNormalization()(sc2d3)\n",
    "relu3= Activation(activations.relu)(b7)\n",
    "sc2d4= SeparableConv2D(256, (3, 3), padding=\"same\")(relu3)\n",
    "b8 = BatchNormalization()(sc2d4)\n",
    "mp2= MaxPooling2D(pool_size=(3, 3), strides=(2, 2), padding=\"same\")(b8)\n",
    "\n",
    "add2 = Add()([b6, mp2])\n",
    "\n",
    "c1d3= Conv2D(1, 1, (2, 2))(add2)\n",
    "b9 = BatchNormalization()(c1d3)\n",
    "\n",
    "relu4= Activation(activations.relu)(add2)\n",
    "sc2d5= SeparableConv2D(728, (3, 3), padding=\"same\")(relu4)\n",
    "b10 = BatchNormalization()(sc2d5)\n",
    "relu5= Activation(activations.relu)(b10)\n",
    "sc2d6= SeparableConv2D(728, (3, 3), padding=\"same\")(relu5)\n",
    "b11 = BatchNormalization()(sc2d6)\n",
    "mp3= MaxPooling2D(pool_size=(3, 3), strides=(2, 2), padding=\"same\")(b11)\n",
    "\n",
    "add3 = Add()([b9, mp3])\n",
    "\n",
    "relu6= Activation(activations.relu)(add3)\n",
    "sc2d7= SeparableConv2D(728, (3, 3), padding=\"same\")(relu6)\n",
    "b12 = BatchNormalization()(sc2d7)\n",
    "relu7= Activation(activations.relu)(b12)\n",
    "sc2d8= SeparableConv2D(728, (3, 3), padding=\"same\")(relu7)\n",
    "b13 = BatchNormalization()(sc2d8)\n",
    "\n",
    "add4 = Add()([add3, b13])\n",
    "\n",
    "relu8= Activation(activations.relu)(add4)\n",
    "sc2d9= SeparableConv2D(728, (3, 3), padding=\"same\")(relu8)\n",
    "b14 = BatchNormalization()(sc2d9)\n",
    "relu9= Activation(activations.relu)(b14)\n",
    "sc2d10= SeparableConv2D(728, (3, 3), padding=\"same\")(relu9)\n",
    "b15 = BatchNormalization()(sc2d10)\n",
    "\n",
    "add5 = Add()([add4, b15])\n",
    "\n",
    "relu10= Activation(activations.relu)(add5)\n",
    "sc2d11= SeparableConv2D(728, (3, 3), padding=\"same\")(relu10)\n",
    "b16 = BatchNormalization()(sc2d11)\n",
    "relu11= Activation(activations.relu)(b16)\n",
    "sc2d12= SeparableConv2D(728, (3, 3), padding=\"same\")(relu11)\n",
    "b17 = BatchNormalization()(sc2d12)\n",
    "\n",
    "add6 = Add()([add5, b17])\n",
    "\n",
    "relu12= Activation(activations.relu)(add6)\n",
    "sc2d13= SeparableConv2D(728, (3, 3), padding=\"same\")(relu12)\n",
    "b18 = BatchNormalization()(sc2d13)\n",
    "relu13= Activation(activations.relu)(b18)\n",
    "sc2d14= SeparableConv2D(728, (3, 3), padding=\"same\")(relu13)\n",
    "b19 = BatchNormalization()(sc2d14)\n",
    "\n",
    "add7 = Add()([add6, b19])\n",
    "\n",
    "relu14= Activation(activations.relu)(add7)\n",
    "sc2d15= SeparableConv2D(728, (3, 3), padding=\"same\")(relu14)\n",
    "b20 = BatchNormalization()(sc2d15)\n",
    "relu15= Activation(activations.relu)(b20)\n",
    "sc2d16= SeparableConv2D(728, (3, 3), padding=\"same\")(relu15)\n",
    "b21 = BatchNormalization()(sc2d16)\n",
    "\n",
    "add8 = Add()([add7, b21])\n",
    "\n",
    "c1d4= Conv2D(1, 1, (2, 2))(add8)\n",
    "b21 = BatchNormalization()(c1d4)\n",
    "\n",
    "relu16= Activation(activations.relu)(add8)\n",
    "sc2d17= SeparableConv2D(728, (3, 3), padding=\"same\")(relu16)\n",
    "b22 = BatchNormalization()(sc2d17)\n",
    "relu17= Activation(activations.relu)(b22)\n",
    "sc2d18= SeparableConv2D(1024, (3, 3), padding=\"same\")(relu17)\n",
    "b23 = BatchNormalization()(sc2d18)\n",
    "mp9= MaxPooling2D(pool_size=(3, 3), strides=(2, 2), padding=\"same\")(b23)\n",
    "\n",
    "add9 = Add()([b21, mp9])\n",
    "\n",
    "sc2d19= SeparableConv2D(1536, (3, 3), activation=\"relu\")(add9)\n",
    "b24 = BatchNormalization()(sc2d19)\n",
    "sc2d20= SeparableConv2D(2048, (3, 3), activation=\"relu\")(b24)\n",
    "b25 = BatchNormalization()(sc2d20)\n",
    "\n",
    "gap = GlobalAveragePooling2D()(b25)\n",
    "\n",
    "flat = Flatten()(gap)\n",
    "dense = Dense(1024, activation='relu')(flat)\n",
    "dropout = Dropout(0.3)(dense)\n",
    "dense2 = Dense(512, activation='relu')(dropout)\n",
    "dropout2 = Dropout(0.1)(dense2)\n",
    "dense3 = Dense(26, activation='softmax')(dropout2)\n",
    "\n",
    "model = tf.keras.Model(I, dense3)"
   ]
  },
  {
   "cell_type": "code",
   "execution_count": 23,
   "id": "eight-poison",
   "metadata": {},
   "outputs": [],
   "source": [
    "early_stopping = EarlyStopping(\n",
    "    monitor='val_sparse_categorical_accuracy',\n",
    "    min_delta=0.00005,\n",
    "    patience=11,\n",
    "    verbose=1,\n",
    "    restore_best_weights=True,\n",
    ")\n",
    "\n",
    "lr_scheduler = ReduceLROnPlateau(\n",
    "    monitor='val_sparse_categorical_accuracy',\n",
    "    factor=0.5,\n",
    "    patience=7,\n",
    "    min_lr=1e-7,\n",
    "    verbose=1,\n",
    ")\n",
    "\n",
    "callbacks = [\n",
    "    early_stopping,\n",
    "    lr_scheduler,\n",
    "]"
   ]
  },
  {
   "cell_type": "code",
   "execution_count": 25,
   "id": "widespread-reconstruction",
   "metadata": {
    "scrolled": true
   },
   "outputs": [],
   "source": [
    "with tf.device(\"/device:GPU:0\"):\n",
    "    model.compile(optimizer = tf.optimizers.Nadam(),\n",
    "              loss = 'sparse_categorical_crossentropy',\n",
    "              metrics=['sparse_categorical_accuracy'])"
   ]
  },
  {
   "cell_type": "code",
   "execution_count": 26,
   "id": "naughty-stable",
   "metadata": {
    "scrolled": true
   },
   "outputs": [
    {
     "name": "stdout",
     "output_type": "stream",
     "text": [
      "Epoch 1/100\n",
      "176/176 [==============================] - 191s 994ms/step - loss: 1.8179 - sparse_categorical_accuracy: 0.3265 - val_loss: 2.2697 - val_sparse_categorical_accuracy: 0.1445\n",
      "Epoch 2/100\n",
      "176/176 [==============================] - 174s 984ms/step - loss: 1.4439 - sparse_categorical_accuracy: 0.4609 - val_loss: 2.0361 - val_sparse_categorical_accuracy: 0.2305\n",
      "Epoch 3/100\n",
      "176/176 [==============================] - 174s 987ms/step - loss: 1.3232 - sparse_categorical_accuracy: 0.5170 - val_loss: 1.5740 - val_sparse_categorical_accuracy: 0.3789\n",
      "Epoch 4/100\n",
      "176/176 [==============================] - 174s 985ms/step - loss: 1.2474 - sparse_categorical_accuracy: 0.5388 - val_loss: 3.7379 - val_sparse_categorical_accuracy: 0.3672\n",
      "Epoch 5/100\n",
      "176/176 [==============================] - 173s 978ms/step - loss: 1.2069 - sparse_categorical_accuracy: 0.5464 - val_loss: 3.3644 - val_sparse_categorical_accuracy: 0.3555\n",
      "Epoch 6/100\n",
      "176/176 [==============================] - 174s 985ms/step - loss: 1.1435 - sparse_categorical_accuracy: 0.5701 - val_loss: 2.5925 - val_sparse_categorical_accuracy: 0.3984\n",
      "Epoch 7/100\n",
      "176/176 [==============================] - 174s 985ms/step - loss: 1.1094 - sparse_categorical_accuracy: 0.5897 - val_loss: 2.5652 - val_sparse_categorical_accuracy: 0.3125\n",
      "Epoch 8/100\n",
      "176/176 [==============================] - 175s 988ms/step - loss: 1.0759 - sparse_categorical_accuracy: 0.6042 - val_loss: 2.3854 - val_sparse_categorical_accuracy: 0.4141\n",
      "Epoch 9/100\n",
      "176/176 [==============================] - 175s 989ms/step - loss: 1.0491 - sparse_categorical_accuracy: 0.6079 - val_loss: 1.9174 - val_sparse_categorical_accuracy: 0.4062\n",
      "Epoch 10/100\n",
      "176/176 [==============================] - 174s 985ms/step - loss: 1.0120 - sparse_categorical_accuracy: 0.6286 - val_loss: 2.6277 - val_sparse_categorical_accuracy: 0.2891\n",
      "Epoch 11/100\n",
      "176/176 [==============================] - 175s 989ms/step - loss: 0.9796 - sparse_categorical_accuracy: 0.6396 - val_loss: 1.4139 - val_sparse_categorical_accuracy: 0.5820\n",
      "Epoch 12/100\n",
      "176/176 [==============================] - 175s 987ms/step - loss: 0.9778 - sparse_categorical_accuracy: 0.6380 - val_loss: 1.5098 - val_sparse_categorical_accuracy: 0.5391\n",
      "Epoch 13/100\n",
      "176/176 [==============================] - 175s 989ms/step - loss: 0.9254 - sparse_categorical_accuracy: 0.6553 - val_loss: 2.2851 - val_sparse_categorical_accuracy: 0.3789\n",
      "Epoch 14/100\n",
      "176/176 [==============================] - 175s 991ms/step - loss: 0.9182 - sparse_categorical_accuracy: 0.6628 - val_loss: 1.2691 - val_sparse_categorical_accuracy: 0.5469\n",
      "Epoch 15/100\n",
      "176/176 [==============================] - 175s 988ms/step - loss: 0.8967 - sparse_categorical_accuracy: 0.6756 - val_loss: 2.3876 - val_sparse_categorical_accuracy: 0.4258\n",
      "Epoch 16/100\n",
      "176/176 [==============================] - 177s 1000ms/step - loss: 0.8590 - sparse_categorical_accuracy: 0.6874 - val_loss: 1.5244 - val_sparse_categorical_accuracy: 0.5703\n",
      "Epoch 17/100\n",
      "176/176 [==============================] - 177s 1s/step - loss: 0.8452 - sparse_categorical_accuracy: 0.6810 - val_loss: 3.0272 - val_sparse_categorical_accuracy: 0.3750\n",
      "Epoch 18/100\n",
      "176/176 [==============================] - 175s 988ms/step - loss: 0.8343 - sparse_categorical_accuracy: 0.6894 - val_loss: 1.3464 - val_sparse_categorical_accuracy: 0.5586\n",
      "\n",
      "Epoch 00018: ReduceLROnPlateau reducing learning rate to 0.0005000000237487257.\n",
      "Epoch 19/100\n",
      "176/176 [==============================] - 175s 990ms/step - loss: 0.7302 - sparse_categorical_accuracy: 0.7314 - val_loss: 0.7528 - val_sparse_categorical_accuracy: 0.7305\n",
      "Epoch 20/100\n",
      "176/176 [==============================] - 174s 982ms/step - loss: 0.7121 - sparse_categorical_accuracy: 0.7346 - val_loss: 0.7078 - val_sparse_categorical_accuracy: 0.7539\n",
      "Epoch 21/100\n",
      "176/176 [==============================] - 174s 983ms/step - loss: 0.6831 - sparse_categorical_accuracy: 0.7453 - val_loss: 0.8804 - val_sparse_categorical_accuracy: 0.7305\n",
      "Epoch 22/100\n",
      "176/176 [==============================] - 174s 985ms/step - loss: 0.6710 - sparse_categorical_accuracy: 0.7503 - val_loss: 0.7814 - val_sparse_categorical_accuracy: 0.7266\n",
      "Epoch 23/100\n",
      "176/176 [==============================] - 173s 981ms/step - loss: 0.6711 - sparse_categorical_accuracy: 0.7514 - val_loss: 0.7460 - val_sparse_categorical_accuracy: 0.7227\n",
      "Epoch 24/100\n",
      "176/176 [==============================] - 176s 995ms/step - loss: 0.6391 - sparse_categorical_accuracy: 0.7583 - val_loss: 0.7865 - val_sparse_categorical_accuracy: 0.6953\n",
      "Epoch 25/100\n",
      "176/176 [==============================] - 175s 992ms/step - loss: 0.6318 - sparse_categorical_accuracy: 0.7763 - val_loss: 0.8250 - val_sparse_categorical_accuracy: 0.6758\n",
      "Epoch 26/100\n",
      "176/176 [==============================] - 174s 984ms/step - loss: 0.6075 - sparse_categorical_accuracy: 0.7738 - val_loss: 0.9352 - val_sparse_categorical_accuracy: 0.6680\n",
      "Epoch 27/100\n",
      "176/176 [==============================] - 174s 986ms/step - loss: 0.5963 - sparse_categorical_accuracy: 0.7760 - val_loss: 1.1291 - val_sparse_categorical_accuracy: 0.6328\n",
      "\n",
      "Epoch 00027: ReduceLROnPlateau reducing learning rate to 0.0002500000118743628.\n",
      "Epoch 28/100\n",
      "176/176 [==============================] - 174s 987ms/step - loss: 0.5183 - sparse_categorical_accuracy: 0.8086 - val_loss: 0.7717 - val_sparse_categorical_accuracy: 0.7031\n",
      "Epoch 29/100\n",
      "176/176 [==============================] - 174s 982ms/step - loss: 0.4942 - sparse_categorical_accuracy: 0.8129 - val_loss: 0.7552 - val_sparse_categorical_accuracy: 0.6719\n",
      "Epoch 30/100\n",
      "176/176 [==============================] - 174s 982ms/step - loss: 0.4978 - sparse_categorical_accuracy: 0.8102 - val_loss: 1.1017 - val_sparse_categorical_accuracy: 0.6602\n",
      "Epoch 31/100\n",
      "176/176 [==============================] - 174s 985ms/step - loss: 0.4657 - sparse_categorical_accuracy: 0.8243 - val_loss: 0.7080 - val_sparse_categorical_accuracy: 0.7500\n",
      "Restoring model weights from the end of the best epoch.\n",
      "Epoch 00031: early stopping\n"
     ]
    }
   ],
   "source": [
    "\n",
    "with tf.device(\"/device:GPU:1\"):\n",
    "    history = model.fit(train_generator,\n",
    "      #steps_per_epoch=2000 // 32,  \n",
    "      epochs=100,\n",
    "      verbose=1,\n",
    "      validation_data = validation_generator,\n",
    "      validation_steps=8,\n",
    "      callbacks = callbacks)"
   ]
  },
  {
   "cell_type": "code",
   "execution_count": 27,
   "id": "2aafbc3c",
   "metadata": {
    "scrolled": true
   },
   "outputs": [
    {
     "name": "stderr",
     "output_type": "stream",
     "text": [
      "/home/pascal_steiger/anaconda3/lib/python3.8/site-packages/tensorflow/python/keras/utils/generic_utils.py:494: CustomMaskWarning: Custom mask layers require a config and must override get_config. When loading, the custom mask layer must be passed to the custom_objects argument.\n",
      "  warnings.warn('Custom mask layers require a config and must override '\n"
     ]
    }
   ],
   "source": [
    "with tf.device(\"/device:GPU:1\"):\n",
    "    model.save('CNN_v4_fullNet.h5')"
   ]
  },
  {
   "cell_type": "code",
   "execution_count": 28,
   "id": "stuck-broad",
   "metadata": {},
   "outputs": [
    {
     "data": {
      "image/png": "[encoded data removed]",
      "text/plain": [
       "<Figure size 864x288 with 2 Axes>"
      ]
     },
     "metadata": {},
     "output_type": "display_data"
    }
   ],
   "source": [
    "# plot training and validation metrics\n",
    "\n",
    "sns.set()\n",
    "fig = plt.figure(0, (12, 4))\n",
    "\n",
    "ax = plt.subplot(1, 2, 1)\n",
    "sns.lineplot(x=history.epoch, y=history.history['sparse_categorical_accuracy'], label='train')\n",
    "sns.lineplot(x=history.epoch, y=history.history['val_sparse_categorical_accuracy'], label='valid')\n",
    "plt.title('Accuracy')\n",
    "plt.tight_layout()\n",
    "\n",
    "ax = plt.subplot(1, 2, 2)\n",
    "sns.lineplot(x=history.epoch, y=history.history['loss'], label='train')\n",
    "sns.lineplot(x=history.epoch, y=history.history['val_loss'], label='valid')\n",
    "plt.title('Loss')\n",
    "plt.tight_layout()\n",
    "\n",
    "plt.savefig('CNN(320,320)_v4.png')\n",
    "\n",
    "plt.show()"
   ]
  },
  {
   "cell_type": "code",
   "execution_count": 87,
   "id": "owned-syndrome",
   "metadata": {},
   "outputs": [],
   "source": [
    "def make_prediction(path, model, size=(250,250)):\n",
    "    d = {'path': [path], 'label': [os.path.dirname(path)]}\n",
    "    df = pd.DataFrame(data=d)\n",
    "    pred_gen = ImageDataGenerator(rescale=1./255)\n",
    "    pred_generator = pred_gen.flow_from_dataframe(\n",
    "        dataframe=df,\n",
    "        x_col=\"path\",\n",
    "        y_col=\"label\",\n",
    "        target_size=size,\n",
    "        batch_size=1,\n",
    "        shuffle=False,\n",
    "        class_mode=\"sparse\",\n",
    "        seed=42\n",
    "    )\n",
    "    res = model.predict(pred_generator)\n",
    "    return (labelStringArr[np.argmax(res)], res[0][np.argmax(res)])\n",
    "    "
   ]
  },
  {
   "cell_type": "code",
   "execution_count": 88,
   "id": "athletic-adapter",
   "metadata": {},
   "outputs": [
    {
     "name": "stdout",
     "output_type": "stream",
     "text": [
      "Found 1 validated image filenames belonging to 1 classes.\n"
     ]
    },
    {
     "data": {
      "text/plain": [
       "('DNK', 0.11289916)"
      ]
     },
     "execution_count": 88,
     "metadata": {},
     "output_type": "execute_result"
    }
   ],
   "source": [
    "make_prediction(\"/mnt/data/data/POL/img_POL_50.114902597259785,21.71049290647834_180.jpg\", model)"
   ]
  },
  {
   "cell_type": "code",
   "execution_count": 91,
   "id": "southwest-catch",
   "metadata": {},
   "outputs": [
    {
     "data": {
      "text/plain": [
       "<AxesSubplot:xlabel='label', ylabel='count'>"
      ]
     },
     "execution_count": 91,
     "metadata": {},
     "output_type": "execute_result"
    },
    {
     "data": {
      "image/png": "[encoded data removed]",
      "text/plain": [
       "<Figure size 864x288 with 1 Axes>"
      ]
     },
     "metadata": {},
     "output_type": "display_data"
    }
   ],
   "source": [
    "import seaborn as sns\n",
    "plt.figure(figsize=(12,4))\n",
    "sns.countplot(x='label', data=train_df)"
   ]
  },
  {
   "cell_type": "code",
   "execution_count": 94,
   "id": "premium-audit",
   "metadata": {},
   "outputs": [
    {
     "ename": "KeyError",
     "evalue": "1",
     "output_type": "error",
     "traceback": [
      "\u001b[0;31m---------------------------------------------------------------------------\u001b[0m",
      "\u001b[0;31mKeyError\u001b[0m                                  Traceback (most recent call last)",
      "\u001b[0;32m~/conda/envs/data-science-stack-2.8.0/lib/python3.7/site-packages/pandas/core/indexes/base.py\u001b[0m in \u001b[0;36mget_loc\u001b[0;34m(self, key, method, tolerance)\u001b[0m\n\u001b[1;32m   2897\u001b[0m             \u001b[0;32mtry\u001b[0m\u001b[0;34m:\u001b[0m\u001b[0;34m\u001b[0m\u001b[0;34m\u001b[0m\u001b[0m\n\u001b[0;32m-> 2898\u001b[0;31m                 \u001b[0;32mreturn\u001b[0m \u001b[0mself\u001b[0m\u001b[0;34m.\u001b[0m\u001b[0m_engine\u001b[0m\u001b[0;34m.\u001b[0m\u001b[0mget_loc\u001b[0m\u001b[0;34m(\u001b[0m\u001b[0mcasted_key\u001b[0m\u001b[0;34m)\u001b[0m\u001b[0;34m\u001b[0m\u001b[0;34m\u001b[0m\u001b[0m\n\u001b[0m\u001b[1;32m   2899\u001b[0m             \u001b[0;32mexcept\u001b[0m \u001b[0mKeyError\u001b[0m \u001b[0;32mas\u001b[0m \u001b[0merr\u001b[0m\u001b[0;34m:\u001b[0m\u001b[0;34m\u001b[0m\u001b[0;34m\u001b[0m\u001b[0m\n",
      "\u001b[0;32mpandas/_libs/index.pyx\u001b[0m in \u001b[0;36mpandas._libs.index.IndexEngine.get_loc\u001b[0;34m()\u001b[0m\n",
      "\u001b[0;32mpandas/_libs/index.pyx\u001b[0m in \u001b[0;36mpandas._libs.index.IndexEngine.get_loc\u001b[0;34m()\u001b[0m\n",
      "\u001b[0;32mpandas/_libs/hashtable_class_helper.pxi\u001b[0m in \u001b[0;36mpandas._libs.hashtable.PyObjectHashTable.get_item\u001b[0;34m()\u001b[0m\n",
      "\u001b[0;32mpandas/_libs/hashtable_class_helper.pxi\u001b[0m in \u001b[0;36mpandas._libs.hashtable.PyObjectHashTable.get_item\u001b[0;34m()\u001b[0m\n",
      "\u001b[0;31mKeyError\u001b[0m: 1",
      "\nThe above exception was the direct cause of the following exception:\n",
      "\u001b[0;31mKeyError\u001b[0m                                  Traceback (most recent call last)",
      "\u001b[0;32m<ipython-input-94-c6e2ab72c20e>\u001b[0m in \u001b[0;36m<module>\u001b[0;34m\u001b[0m\n\u001b[1;32m      1\u001b[0m \u001b[0mplt\u001b[0m\u001b[0;34m.\u001b[0m\u001b[0mfigure\u001b[0m\u001b[0;34m(\u001b[0m\u001b[0mfigsize\u001b[0m\u001b[0;34m=\u001b[0m\u001b[0;34m(\u001b[0m\u001b[0;36m6\u001b[0m\u001b[0;34m,\u001b[0m\u001b[0;36m6\u001b[0m\u001b[0;34m)\u001b[0m\u001b[0;34m)\u001b[0m\u001b[0;34m\u001b[0m\u001b[0;34m\u001b[0m\u001b[0m\n\u001b[0;32m----> 2\u001b[0;31m \u001b[0mplt\u001b[0m\u001b[0;34m.\u001b[0m\u001b[0mimshow\u001b[0m\u001b[0;34m(\u001b[0m\u001b[0mtrain_df\u001b[0m\u001b[0;34m[\u001b[0m\u001b[0;36m1\u001b[0m\u001b[0;34m]\u001b[0m\u001b[0;34m[\u001b[0m\u001b[0;34m:\u001b[0m\u001b[0;34m,\u001b[0m\u001b[0;34m:\u001b[0m\u001b[0;34m,\u001b[0m\u001b[0;36m0\u001b[0m\u001b[0;34m]\u001b[0m\u001b[0;34m)\u001b[0m\u001b[0;34m\u001b[0m\u001b[0;34m\u001b[0m\u001b[0m\n\u001b[0m\u001b[1;32m      3\u001b[0m \u001b[0mplt\u001b[0m\u001b[0;34m.\u001b[0m\u001b[0mtitle\u001b[0m\u001b[0;34m(\u001b[0m\u001b[0mY_train\u001b[0m\u001b[0;34m[\u001b[0m\u001b[0;36m1\u001b[0m\u001b[0;34m]\u001b[0m\u001b[0;34m.\u001b[0m\u001b[0margmax\u001b[0m\u001b[0;34m(\u001b[0m\u001b[0;34m)\u001b[0m\u001b[0;34m)\u001b[0m\u001b[0;34m;\u001b[0m\u001b[0;34m\u001b[0m\u001b[0;34m\u001b[0m\u001b[0m\n",
      "\u001b[0;32m~/conda/envs/data-science-stack-2.8.0/lib/python3.7/site-packages/pandas/core/frame.py\u001b[0m in \u001b[0;36m__getitem__\u001b[0;34m(self, key)\u001b[0m\n\u001b[1;32m   2904\u001b[0m             \u001b[0;32mif\u001b[0m \u001b[0mself\u001b[0m\u001b[0;34m.\u001b[0m\u001b[0mcolumns\u001b[0m\u001b[0;34m.\u001b[0m\u001b[0mnlevels\u001b[0m \u001b[0;34m>\u001b[0m \u001b[0;36m1\u001b[0m\u001b[0;34m:\u001b[0m\u001b[0;34m\u001b[0m\u001b[0;34m\u001b[0m\u001b[0m\n\u001b[1;32m   2905\u001b[0m                 \u001b[0;32mreturn\u001b[0m \u001b[0mself\u001b[0m\u001b[0;34m.\u001b[0m\u001b[0m_getitem_multilevel\u001b[0m\u001b[0;34m(\u001b[0m\u001b[0mkey\u001b[0m\u001b[0;34m)\u001b[0m\u001b[0;34m\u001b[0m\u001b[0;34m\u001b[0m\u001b[0m\n\u001b[0;32m-> 2906\u001b[0;31m             \u001b[0mindexer\u001b[0m \u001b[0;34m=\u001b[0m \u001b[0mself\u001b[0m\u001b[0;34m.\u001b[0m\u001b[0mcolumns\u001b[0m\u001b[0;34m.\u001b[0m\u001b[0mget_loc\u001b[0m\u001b[0;34m(\u001b[0m\u001b[0mkey\u001b[0m\u001b[0;34m)\u001b[0m\u001b[0;34m\u001b[0m\u001b[0;34m\u001b[0m\u001b[0m\n\u001b[0m\u001b[1;32m   2907\u001b[0m             \u001b[0;32mif\u001b[0m \u001b[0mis_integer\u001b[0m\u001b[0;34m(\u001b[0m\u001b[0mindexer\u001b[0m\u001b[0;34m)\u001b[0m\u001b[0;34m:\u001b[0m\u001b[0;34m\u001b[0m\u001b[0;34m\u001b[0m\u001b[0m\n\u001b[1;32m   2908\u001b[0m                 \u001b[0mindexer\u001b[0m \u001b[0;34m=\u001b[0m \u001b[0;34m[\u001b[0m\u001b[0mindexer\u001b[0m\u001b[0;34m]\u001b[0m\u001b[0;34m\u001b[0m\u001b[0;34m\u001b[0m\u001b[0m\n",
      "\u001b[0;32m~/conda/envs/data-science-stack-2.8.0/lib/python3.7/site-packages/pandas/core/indexes/base.py\u001b[0m in \u001b[0;36mget_loc\u001b[0;34m(self, key, method, tolerance)\u001b[0m\n\u001b[1;32m   2898\u001b[0m                 \u001b[0;32mreturn\u001b[0m \u001b[0mself\u001b[0m\u001b[0;34m.\u001b[0m\u001b[0m_engine\u001b[0m\u001b[0;34m.\u001b[0m\u001b[0mget_loc\u001b[0m\u001b[0;34m(\u001b[0m\u001b[0mcasted_key\u001b[0m\u001b[0;34m)\u001b[0m\u001b[0;34m\u001b[0m\u001b[0;34m\u001b[0m\u001b[0m\n\u001b[1;32m   2899\u001b[0m             \u001b[0;32mexcept\u001b[0m \u001b[0mKeyError\u001b[0m \u001b[0;32mas\u001b[0m \u001b[0merr\u001b[0m\u001b[0;34m:\u001b[0m\u001b[0;34m\u001b[0m\u001b[0;34m\u001b[0m\u001b[0m\n\u001b[0;32m-> 2900\u001b[0;31m                 \u001b[0;32mraise\u001b[0m \u001b[0mKeyError\u001b[0m\u001b[0;34m(\u001b[0m\u001b[0mkey\u001b[0m\u001b[0;34m)\u001b[0m \u001b[0;32mfrom\u001b[0m \u001b[0merr\u001b[0m\u001b[0;34m\u001b[0m\u001b[0;34m\u001b[0m\u001b[0m\n\u001b[0m\u001b[1;32m   2901\u001b[0m \u001b[0;34m\u001b[0m\u001b[0m\n\u001b[1;32m   2902\u001b[0m         \u001b[0;32mif\u001b[0m \u001b[0mtolerance\u001b[0m \u001b[0;32mis\u001b[0m \u001b[0;32mnot\u001b[0m \u001b[0;32mNone\u001b[0m\u001b[0;34m:\u001b[0m\u001b[0;34m\u001b[0m\u001b[0;34m\u001b[0m\u001b[0m\n",
      "\u001b[0;31mKeyError\u001b[0m: 1"
     ]
    },
    {
     "data": {
      "text/plain": [
       "<Figure size 432x432 with 0 Axes>"
      ]
     },
     "metadata": {},
     "output_type": "display_data"
    }
   ],
   "source": [
    "print(\"on valid data\")\n",
    "pred1=model.evaluate(X_valid,Y_valid)\n",
    "print(\"accuaracy\", str(pred1[1]*100))\n",
    "print(\"Total loss\",str(pred1[0]*100))\n"
   ]
  },
  {
   "cell_type": "code",
   "execution_count": null,
   "id": "indoor-weekend",
   "metadata": {},
   "outputs": [],
   "source": []
  }
 ],
 "metadata": {
  "kernelspec": {
   "display_name": "Python 3",
   "language": "python",
   "name": "python3"
  },
  "language_info": {
   "codemirror_mode": {
    "name": "ipython",
    "version": 3
   },
   "file_extension": ".py",
   "mimetype": "text/x-python",
   "name": "python",
   "nbconvert_exporter": "python",
   "pygments_lexer": "ipython3",
   "version": "3.8.8"
  }
 },
 "nbformat": 4,
 "nbformat_minor": 5
}
