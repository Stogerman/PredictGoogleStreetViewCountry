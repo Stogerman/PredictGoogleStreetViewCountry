{
 "cells": [
  {
   "cell_type": "code",
   "execution_count": 1,
   "id": "approved-karaoke",
   "metadata": {},
   "outputs": [],
   "source": [
    "from sklearn import preprocessing, datasets, neighbors\n",
    "from sklearn.model_selection import train_test_split, cross_val_predict\n",
    "from sklearn.neighbors import KNeighborsClassifier\n",
    "import matplotlib.pyplot as plt\n",
    "import seaborn as sns\n",
    "import pandas as pd\n",
    "import pathlib\n",
    "import os\n",
    "import numpy as np\n",
    "from keras.preprocessing import image\n",
    "from skimage.io import imread\n",
    "import cv2 as cv\n",
    "from mlxtend.plotting import plot_decision_regions"
   ]
  },
  {
   "cell_type": "code",
   "execution_count": 2,
   "id": "single-billy",
   "metadata": {},
   "outputs": [],
   "source": [
    "def load_image_files(container_path):\n",
    "    image_dir = pathlib.Path(container_path)\n",
    "    folders = [directory for directory in image_dir.iterdir() if directory.is_dir()]\n",
    "    categories = [fo.name for fo in folders]\n",
    "\n",
    "    descr = \"A image classification dataset\"\n",
    "    images = []\n",
    "    flat_data = []\n",
    "    target = []\n",
    "    count = 0\n",
    "    train_img = []\n",
    "    train_label = []\n",
    "    catStringArr = []\n",
    "    for i, direc in enumerate(folders):\n",
    "        for file in direc.iterdir():\n",
    "            count += 1\n",
    "            img = imread(file)\n",
    "            img_pred = get_channels_hist_of_img(img)\n",
    "            train_img.append(img_pred)\n",
    "            train_label.append(os.path.basename(os.path.normpath(direc)))\n",
    "            \n",
    "\n",
    "    X = np.array(train_img)\n",
    "    y = np.array(train_label)\n",
    "\n",
    "    return X, y, categories\n"
   ]
  },
  {
   "cell_type": "code",
   "execution_count": 3,
   "id": "1f5f25cd",
   "metadata": {},
   "outputs": [],
   "source": [
    "def get_channels_hist_of_img(image):\n",
    "    blue = cv.calcHist([image],[0],None,[256],[0,256])\n",
    "    green = cv.calcHist([image],[1],None,[256],[0,256])\n",
    "    red = cv.calcHist([image],[2],None,[256],[0,256])\n",
    "    return [blue, green, red]"
   ]
  },
  {
   "cell_type": "code",
   "execution_count": 4,
   "id": "ongoing-tours",
   "metadata": {},
   "outputs": [],
   "source": [
    "X = []\n",
    "y = []\n",
    "X, y, labelStringArr = load_image_files(\"/home/pascal_steiger/Downloads/data15/\")"
   ]
  },
  {
   "cell_type": "code",
   "execution_count": 5,
   "id": "allied-dutch",
   "metadata": {},
   "outputs": [
    {
     "name": "stdout",
     "output_type": "stream",
     "text": [
      "['MKD', 'ISL', 'IRL', 'ITA', 'GBR', 'AUT', 'FIN', 'NOR', 'PRT', 'BEL', 'EST', 'POL', 'CHE', 'DNK', 'SWE']\n",
      "X_train: (12012, 3, 256, 1)\n",
      "X_test: (3003, 3, 256, 1)\n",
      "y_train: (12012,)\n",
      "y_test: (3003,)\n",
      "X_train: (12012, 768)\n",
      "X_test: (3003, 768)\n",
      "y_train: (12012,)\n",
      "y_test: (3003,)\n"
     ]
    }
   ],
   "source": [
    "X_train, X_test, y_train, y_test = train_test_split(X, y, random_state=42, test_size=0.2)\n",
    "print(labelStringArr)\n",
    "print(\"X_train: \"+str(X_train.shape))\n",
    "print(\"X_test: \"+str(X_test.shape))\n",
    "print(\"y_train: \"+str(y_train.shape))\n",
    "print(\"y_test: \"+str(y_test.shape))\n",
    "\n",
    "from builtins import range\n",
    "from builtins import object\n",
    "\n",
    "num_training = X_train.shape[0]\n",
    "mask = list(range(num_training))\n",
    "X_train = X_train[mask]\n",
    "y_train = y_train[mask]\n",
    "\n",
    "num_test = X_test.shape[0]\n",
    "mask = list(range(num_test))\n",
    "X_test = X_test[mask]\n",
    "y_test = y_test[mask]\n",
    "\n",
    "# Reshape the image data into rows\n",
    "X_train = np.reshape(X_train, (X_train.shape[0], -1))\n",
    "X_test = np.reshape(X_test, (X_test.shape[0], -1))\n",
    "\n",
    "print(\"X_train: \"+str(X_train.shape))\n",
    "print(\"X_test: \"+str(X_test.shape))\n",
    "print(\"y_train: \"+str(y_train.shape))\n",
    "print(\"y_test: \"+str(y_test.shape))"
   ]
  },
  {
   "cell_type": "code",
   "execution_count": 12,
   "id": "backed-superior",
   "metadata": {},
   "outputs": [],
   "source": [
    "lix = []\n",
    "liy = []\n",
    "index=0\n",
    "acc=0\n",
    "from sklearn.neighbors import KNeighborsClassifier\n",
    "for k in range(1, 100):\n",
    "    neigh = KNeighborsClassifier(n_neighbors=k)\n",
    "    neigh.fit(X_train, y_train)\n",
    "    liy.append(neigh.score(X_test, y_test))\n",
    "    if liy[k-1]>acc:\n",
    "        acc=liy[k-1]\n",
    "        index=k-1\n",
    "    lix.append(k)"
   ]
  },
  {
   "cell_type": "code",
   "execution_count": 13,
   "id": "399a353c",
   "metadata": {},
   "outputs": [
    {
     "data": {
      "image/png": "[encoded data removed]",
      "text/plain": [
       "<Figure size 432x288 with 1 Axes>"
      ]
     },
     "metadata": {
      "needs_background": "light"
     },
     "output_type": "display_data"
    },
    {
     "name": "stdout",
     "output_type": "stream",
     "text": [
      "Maximale Genauigkeit bei k=20 und einer Genauigkeit von 0.2594072594072594\n"
     ]
    }
   ],
   "source": [
    "plt.plot(lix, liy)\n",
    "plt.xlabel(\"Anzahl betrachteter Nachbarn\")\n",
    "plt.ylabel(\"Genauigkeit\")\n",
    "plt.savefig(\"KNNv3-data15.png\", dpi=300)\n",
    "plt.show()\n",
    "print(\"Maximale Genauigkeit bei k=\"+str(index+1)+\" und einer Genauigkeit von \"+str(acc))"
   ]
  },
  {
   "cell_type": "code",
   "execution_count": 8,
   "id": "agreed-simpson",
   "metadata": {},
   "outputs": [
    {
     "name": "stdout",
     "output_type": "stream",
     "text": [
      "Test Accuracy: 0.2594072594072594\n"
     ]
    }
   ],
   "source": [
    "neigh = KNeighborsClassifier(n_neighbors=20)\n",
    "neigh.fit(X_train, y_train)\n",
    "print(\"Test Accuracy: \"+str(neigh.score(X_test, y_test)))"
   ]
  },
  {
   "cell_type": "code",
   "execution_count": 9,
   "id": "f0a64f99",
   "metadata": {},
   "outputs": [
    {
     "name": "stdout",
     "output_type": "stream",
     "text": [
      "['AUT', 'BEL', 'CHE', 'DNK', 'EST', 'FIN', 'GBR', 'IRL', 'ISL', 'ITA', 'MKD', 'NOR', 'POL', 'PRT', 'SWE']\n",
      "[[ 41  10   7  10  28   7   1   7   9  12   9  14   8  11   1]\n",
      " [  4  26   6  15  19  17  17  45   6  12  14  10  10   7   9]\n",
      " [  4  13  37   3  45  11   8   1  19   6  22   1  13   7   7]\n",
      " [  5  17   4  32  19   8   7  25  19   4   8  17   3   3   6]\n",
      " [  6   6   8   2 100   4   2   8  19   1  13   0  16   3  10]\n",
      " [  8  10   8  10  14  46  16  10  11   9   4   8  14  12   8]\n",
      " [  6  21   7  10  14  11  15  61  20   8  11   2  12   3   5]\n",
      " [  9  23   3  14   8   5  17  90   2  13   0  10   2   7   5]\n",
      " [  1   1   6   1  11   3   2   3 146   3   7   1   5   0   2]\n",
      " [ 10  17   9  13  32  12   9  26  12  27  18   5   8  22   1]\n",
      " [  2   4  13   4  36   3   3   3  13   9  77   2  20   6   5]\n",
      " [  7   5   5  18  20   9   8  30   7  12   6  55   7  11   6]\n",
      " [  9   8  15   8  43   7   7   3  29   5   7   0  33   5   4]\n",
      " [  7   9   9  16  25  11   8  10  21  22  14  22  10  38   8]\n",
      " [  7  12   9  16  34  24  10  15   4  11  13  14  14   6  16]]\n"
     ]
    }
   ],
   "source": [
    "from sklearn.metrics import confusion_matrix\n",
    "preds = neigh.predict(X_test)\n",
    "print(sorted(labelStringArr))\n",
    "print(confusion_matrix(y_test, preds, labels=sorted(labelStringArr)))"
   ]
  },
  {
   "cell_type": "code",
   "execution_count": null,
   "id": "7e068ef9",
   "metadata": {},
   "outputs": [],
   "source": []
  }
 ],
 "metadata": {
  "kernelspec": {
   "display_name": "Python 3",
   "language": "python",
   "name": "python3"
  },
  "language_info": {
   "codemirror_mode": {
    "name": "ipython",
    "version": 3
   },
   "file_extension": ".py",
   "mimetype": "text/x-python",
   "name": "python",
   "nbconvert_exporter": "python",
   "pygments_lexer": "ipython3",
   "version": "3.8.8"
  }
 },
 "nbformat": 4,
 "nbformat_minor": 5
}
