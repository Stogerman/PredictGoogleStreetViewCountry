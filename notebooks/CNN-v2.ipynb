{
 "cells": [
  {
   "cell_type": "code",
   "execution_count": 1,
   "id": "requested-september",
   "metadata": {},
   "outputs": [],
   "source": [
    "import tensorflow as tf\n",
    "import pathlib\n",
    "import numpy as np\n",
    "import pandas as pd\n",
    "import os\n",
    "import matplotlib.pyplot as plt\n",
    "import seaborn as sns\n",
    "import cv2 as cv\n",
    "from sklearn.model_selection import train_test_split\n",
    "from tensorflow.keras.callbacks import Callback, EarlyStopping, ReduceLROnPlateau\n",
    "from tensorflow.keras.models import Sequential\n",
    "from tensorflow.keras.preprocessing.image import ImageDataGenerator\n",
    "from tensorflow.keras.layers import Flatten, Dense, Conv2D, MaxPooling2D\n",
    "from tensorflow.keras.layers import Dropout, BatchNormalization, LeakyReLU, Activation"
   ]
  },
  {
   "cell_type": "code",
   "execution_count": 2,
   "id": "growing-aspect",
   "metadata": {},
   "outputs": [
    {
     "data": {
      "text/plain": [
       "[PhysicalDevice(name='/physical_device:GPU:0', device_type='GPU'),\n",
       " PhysicalDevice(name='/physical_device:GPU:1', device_type='GPU')]"
      ]
     },
     "execution_count": 2,
     "metadata": {},
     "output_type": "execute_result"
    }
   ],
   "source": [
    "tf.config.list_physical_devices('GPU')"
   ]
  },
  {
   "cell_type": "code",
   "execution_count": 3,
   "id": "yellow-singing",
   "metadata": {},
   "outputs": [],
   "source": [
    "country_images_root = pathlib.Path(\"/home/pascal_steiger/Downloads/data/\")"
   ]
  },
  {
   "cell_type": "code",
   "execution_count": 4,
   "id": "elegant-halifax",
   "metadata": {},
   "outputs": [],
   "source": [
    "def load_image_paths(container_path):\n",
    "    image_dir = pathlib.Path(container_path)\n",
    "    folders = [directory for directory in image_dir.iterdir() if directory.is_dir()]\n",
    "    categories = [fo.name for fo in folders]\n",
    "\n",
    "    descr = \"A image classification dataset\"\n",
    "    image_paths = []\n",
    "    flat_data = []\n",
    "    target = []\n",
    "    count = 0\n",
    "    train_img_path = []\n",
    "    train_label = []\n",
    "    for i, direc in enumerate(folders):\n",
    "        for file in direc.iterdir():\n",
    "            count += 1\n",
    "            train_img_path.append(str(file))\n",
    "            train_label.append(categories[i])\n",
    "\n",
    "    X = np.array(train_img_path)\n",
    "    y = np.array(train_label)\n",
    "    catStringArr = np.array(categories)\n",
    "\n",
    "    return X, y, catStringArr"
   ]
  },
  {
   "cell_type": "code",
   "execution_count": 5,
   "id": "exceptional-visibility",
   "metadata": {},
   "outputs": [
    {
     "data": {
      "text/html": [
       "<div>\n",
       "<style scoped>\n",
       "    .dataframe tbody tr th:only-of-type {\n",
       "        vertical-align: middle;\n",
       "    }\n",
       "\n",
       "    .dataframe tbody tr th {\n",
       "        vertical-align: top;\n",
       "    }\n",
       "\n",
       "    .dataframe thead th {\n",
       "        text-align: right;\n",
       "    }\n",
       "</style>\n",
       "<table border=\"1\" class=\"dataframe\">\n",
       "  <thead>\n",
       "    <tr style=\"text-align: right;\">\n",
       "      <th></th>\n",
       "      <th>path</th>\n",
       "      <th>label</th>\n",
       "    </tr>\n",
       "  </thead>\n",
       "  <tbody>\n",
       "    <tr>\n",
       "      <th>6566</th>\n",
       "      <td>/home/pascal_steiger/Downloads/data/LVA/img_LV...</td>\n",
       "      <td>LVA</td>\n",
       "    </tr>\n",
       "    <tr>\n",
       "      <th>3115</th>\n",
       "      <td>/home/pascal_steiger/Downloads/data/IRL/img_54...</td>\n",
       "      <td>IRL</td>\n",
       "    </tr>\n",
       "    <tr>\n",
       "      <th>5401</th>\n",
       "      <td>/home/pascal_steiger/Downloads/data/HUN/img_HU...</td>\n",
       "      <td>HUN</td>\n",
       "    </tr>\n",
       "    <tr>\n",
       "      <th>16708</th>\n",
       "      <td>/home/pascal_steiger/Downloads/data/PRT/img_PR...</td>\n",
       "      <td>PRT</td>\n",
       "    </tr>\n",
       "    <tr>\n",
       "      <th>7736</th>\n",
       "      <td>/home/pascal_steiger/Downloads/data/GBR/img_53...</td>\n",
       "      <td>GBR</td>\n",
       "    </tr>\n",
       "    <tr>\n",
       "      <th>23110</th>\n",
       "      <td>/home/pascal_steiger/Downloads/data/NLD/img_51...</td>\n",
       "      <td>NLD</td>\n",
       "    </tr>\n",
       "    <tr>\n",
       "      <th>20669</th>\n",
       "      <td>/home/pascal_steiger/Downloads/data/POL/img_PO...</td>\n",
       "      <td>POL</td>\n",
       "    </tr>\n",
       "    <tr>\n",
       "      <th>4132</th>\n",
       "      <td>/home/pascal_steiger/Downloads/data/ITA/img_IT...</td>\n",
       "      <td>ITA</td>\n",
       "    </tr>\n",
       "    <tr>\n",
       "      <th>19078</th>\n",
       "      <td>/home/pascal_steiger/Downloads/data/BEL/img_51...</td>\n",
       "      <td>BEL</td>\n",
       "    </tr>\n",
       "    <tr>\n",
       "      <th>7877</th>\n",
       "      <td>/home/pascal_steiger/Downloads/data/GBR/img_52...</td>\n",
       "      <td>GBR</td>\n",
       "    </tr>\n",
       "  </tbody>\n",
       "</table>\n",
       "</div>"
      ],
      "text/plain": [
       "                                                    path label\n",
       "6566   /home/pascal_steiger/Downloads/data/LVA/img_LV...   LVA\n",
       "3115   /home/pascal_steiger/Downloads/data/IRL/img_54...   IRL\n",
       "5401   /home/pascal_steiger/Downloads/data/HUN/img_HU...   HUN\n",
       "16708  /home/pascal_steiger/Downloads/data/PRT/img_PR...   PRT\n",
       "7736   /home/pascal_steiger/Downloads/data/GBR/img_53...   GBR\n",
       "23110  /home/pascal_steiger/Downloads/data/NLD/img_51...   NLD\n",
       "20669  /home/pascal_steiger/Downloads/data/POL/img_PO...   POL\n",
       "4132   /home/pascal_steiger/Downloads/data/ITA/img_IT...   ITA\n",
       "19078  /home/pascal_steiger/Downloads/data/BEL/img_51...   BEL\n",
       "7877   /home/pascal_steiger/Downloads/data/GBR/img_52...   GBR"
      ]
     },
     "execution_count": 5,
     "metadata": {},
     "output_type": "execute_result"
    }
   ],
   "source": [
    "X = []\n",
    "y = []\n",
    "X, y, labelStringArr = load_image_paths(\"/home/pascal_steiger/Downloads/data/\")\n",
    "img_df = pd.DataFrame(zip(X, y), columns=[\"path\", \"label\"])\n",
    "\n",
    "img_df.sample(n=10)"
   ]
  },
  {
   "cell_type": "code",
   "execution_count": 6,
   "id": "rapid-vessel",
   "metadata": {},
   "outputs": [
    {
     "name": "stdout",
     "output_type": "stream",
     "text": [
      "                                                    path label\n",
      "9956   /home/pascal_steiger/Downloads/data/LTU/img_LT...   LTU\n",
      "24604  /home/pascal_steiger/Downloads/data/DNK/img_DN...   DNK\n",
      "14149  /home/pascal_steiger/Downloads/data/ESP/img_ES...   ESP\n",
      "1517   /home/pascal_steiger/Downloads/data/HRV/img_HR...   HRV\n",
      "23778  /home/pascal_steiger/Downloads/data/CHE/img_47...   CHE\n",
      "(21234, 2)\n",
      "                                                    path label\n",
      "4471   /home/pascal_steiger/Downloads/data/ITA/img_IT...   ITA\n",
      "6741   /home/pascal_steiger/Downloads/data/LVA/img_LV...   LVA\n",
      "13162  /home/pascal_steiger/Downloads/data/ESP/img_ES...   ESP\n",
      "25922  /home/pascal_steiger/Downloads/data/SWE/img_SW...   SWE\n",
      "7364   /home/pascal_steiger/Downloads/data/GBR/img_54...   GBR\n",
      "(5309, 2)\n"
     ]
    }
   ],
   "source": [
    "train_df, test_df = train_test_split(img_df, shuffle=True, test_size=0.2, random_state=42)\n",
    "\n",
    "\n",
    "print(train_df.sample(n=5))\n",
    "print(train_df.shape)\n",
    "print(test_df.sample(n=5))\n",
    "print(test_df.shape)"
   ]
  },
  {
   "cell_type": "code",
   "execution_count": 7,
   "id": "sexual-darwin",
   "metadata": {},
   "outputs": [],
   "source": [
    "train_datagen = ImageDataGenerator(\n",
    "    rescale=1./255,\n",
    "    rotation_range=15,\n",
    "    width_shift_range=0.15,\n",
    "    height_shift_range=0.15,\n",
    "    shear_range=0.15,\n",
    "    zoom_range=0.15,\n",
    "    horizontal_flip=True\n",
    ")\n",
    "\n",
    "test_datagen = ImageDataGenerator(rescale=1./255)"
   ]
  },
  {
   "cell_type": "code",
   "execution_count": 8,
   "id": "egyptian-painting",
   "metadata": {},
   "outputs": [
    {
     "name": "stdout",
     "output_type": "stream",
     "text": [
      "Found 21234 validated image filenames belonging to 26 classes.\n",
      "Found 5309 validated image filenames belonging to 26 classes.\n"
     ]
    }
   ],
   "source": [
    "train_generator = train_datagen.flow_from_dataframe(\n",
    "        dataframe=train_df,\n",
    "        x_col=\"path\",\n",
    "        y_col=\"label\",\n",
    "        target_size=(500, 500),\n",
    "        batch_size=32,\n",
    "        class_mode=\"sparse\",\n",
    "        seed=42\n",
    ")\n",
    "\n",
    "\n",
    "validation_generator = test_datagen.flow_from_dataframe(\n",
    "        dataframe=test_df,\n",
    "        x_col=\"path\",\n",
    "        y_col=\"label\",\n",
    "        target_size=(500, 500),\n",
    "        batch_size=32,\n",
    "        class_mode=\"sparse\",\n",
    "        seed=42\n",
    ")"
   ]
  },
  {
   "cell_type": "code",
   "execution_count": 10,
   "id": "appointed-carbon",
   "metadata": {},
   "outputs": [],
   "source": [
    "# create function to build neural network\n",
    "\n",
    "def build():\n",
    "    network = Sequential(name='DCNN')\n",
    "\n",
    "    network.add(\n",
    "        Conv2D(\n",
    "            filters=64,\n",
    "            kernel_size=(5,5),\n",
    "            input_shape=(500,500, 3),\n",
    "            activation='elu',\n",
    "            padding='same',\n",
    "            kernel_initializer='he_normal',\n",
    "            name='conv2d'\n",
    "        )\n",
    "    )\n",
    "    \n",
    "    network.add(BatchNormalization(name='batchnorm_0'))\n",
    "    \n",
    "    network.add(MaxPooling2D(pool_size=(2,2), name='maxpool2d_0'))\n",
    "    \n",
    "    network.add(\n",
    "        Conv2D(\n",
    "            filters=64,\n",
    "            kernel_size=(5,5),\n",
    "            input_shape=(250,250, 3),\n",
    "            activation='elu',\n",
    "            padding='same',\n",
    "            kernel_initializer='he_normal',\n",
    "            name='conv2d_1'\n",
    "        )\n",
    "    )\n",
    "    network.add(BatchNormalization(name='batchnorm_1'))\n",
    "    network.add(\n",
    "        Conv2D(\n",
    "            filters=64,\n",
    "            kernel_size=(5,5),\n",
    "            activation='elu',\n",
    "            padding='same',\n",
    "            kernel_initializer='he_normal',\n",
    "            name='conv2d_2'\n",
    "        )\n",
    "    )\n",
    "    network.add(BatchNormalization(name='batchnorm_2'))\n",
    "    \n",
    "    network.add(MaxPooling2D(pool_size=(2,2), name='maxpool2d_1'))\n",
    "    network.add(Dropout(0.4, name='dropout_1'))\n",
    "\n",
    "    network.add(\n",
    "        Conv2D(\n",
    "            filters=128,\n",
    "            kernel_size=(3,3),\n",
    "            activation='elu',\n",
    "            padding='same',\n",
    "            kernel_initializer='he_normal',\n",
    "            name='conv2d_4'\n",
    "        )\n",
    "    )\n",
    "    network.add(BatchNormalization(name='batchnorm_4'))\n",
    "    \n",
    "    network.add(MaxPooling2D(pool_size=(2,2), name='maxpool2d_2'))\n",
    "    network.add(Dropout(0.4, name='dropout_2'))\n",
    "\n",
    "\n",
    "\n",
    "    network.add(Flatten(name='flatten'))\n",
    "        \n",
    "    network.add(\n",
    "        Dense(\n",
    "            128,\n",
    "            activation='elu',\n",
    "            kernel_initializer='he_normal',\n",
    "            name='dense_1'\n",
    "        )\n",
    "    )\n",
    "    network.add(BatchNormalization(name='batchnorm_7'))\n",
    "    \n",
    "    network.add(Dropout(0.6, name='dropout_4'))\n",
    "    \n",
    "    network.add(\n",
    "        Dense(\n",
    "            26,\n",
    "            activation='softmax',\n",
    "            name='out_layer'\n",
    "        )\n",
    "    )\n",
    "    \n",
    "    optimizer = tf.optimizers.Nadam(\n",
    "        learning_rate=0.001,\n",
    "        beta_1=0.9,\n",
    "        beta_2=0.999,\n",
    "        epsilon=1e-07,\n",
    "        name='Nadam'\n",
    "    )\n",
    "    \n",
    "    network.compile(\n",
    "        loss='sparse_categorical_crossentropy',\n",
    "        optimizer=optimizer,\n",
    "        metrics=[keras.metrics.SparseCategoricalAccuracy()]\n",
    "    )\n",
    "    \n",
    "    network.summary()\n",
    "    \n",
    "    return network"
   ]
  },
  {
   "cell_type": "code",
   "execution_count": 11,
   "id": "eight-poison",
   "metadata": {},
   "outputs": [],
   "source": [
    "early_stopping = EarlyStopping(\n",
    "    monitor='val_sparse_categorical_accuracy',\n",
    "    min_delta=0.00005,\n",
    "    patience=11,\n",
    "    verbose=1,\n",
    "    restore_best_weights=True,\n",
    ")\n",
    "\n",
    "lr_scheduler = ReduceLROnPlateau(\n",
    "    monitor='val_sparse_categorical_accuracy',\n",
    "    factor=0.5,\n",
    "    patience=7,\n",
    "    min_lr=1e-7,\n",
    "    verbose=1,\n",
    ")\n",
    "\n",
    "callbacks = [\n",
    "    early_stopping,\n",
    "    lr_scheduler,\n",
    "]"
   ]
  },
  {
   "cell_type": "code",
   "execution_count": 12,
   "id": "widespread-reconstruction",
   "metadata": {
    "scrolled": true
   },
   "outputs": [
    {
     "ename": "InternalError",
     "evalue": "CUDA runtime implicit initialization on GPU:0 failed. Status: out of memory",
     "output_type": "error",
     "traceback": [
      "\u001b[0;31m---------------------------------------------------------------------------\u001b[0m",
      "\u001b[0;31mInternalError\u001b[0m                             Traceback (most recent call last)",
      "\u001b[0;32m<ipython-input-12-83efcf9f0da3>\u001b[0m in \u001b[0;36m<module>\u001b[0;34m\u001b[0m\n\u001b[0;32m----> 1\u001b[0;31m \u001b[0;32mwith\u001b[0m \u001b[0mtf\u001b[0m\u001b[0;34m.\u001b[0m\u001b[0mdevice\u001b[0m\u001b[0;34m(\u001b[0m\u001b[0;34m\"/device:GPU:0\"\u001b[0m\u001b[0;34m)\u001b[0m\u001b[0;34m:\u001b[0m\u001b[0;34m\u001b[0m\u001b[0;34m\u001b[0m\u001b[0m\n\u001b[0m\u001b[1;32m      2\u001b[0m     \u001b[0mmodel\u001b[0m \u001b[0;34m=\u001b[0m \u001b[0mbuild\u001b[0m\u001b[0;34m(\u001b[0m\u001b[0;34m)\u001b[0m\u001b[0;34m\u001b[0m\u001b[0;34m\u001b[0m\u001b[0m\n\u001b[1;32m      3\u001b[0m     model.compile(optimizer = tf.optimizers.Nadam(),\n\u001b[1;32m      4\u001b[0m               \u001b[0mloss\u001b[0m \u001b[0;34m=\u001b[0m \u001b[0;34m'sparse_categorical_crossentropy'\u001b[0m\u001b[0;34m,\u001b[0m\u001b[0;34m\u001b[0m\u001b[0;34m\u001b[0m\u001b[0m\n\u001b[1;32m      5\u001b[0m               metrics=['sparse_categorical_accuracy'])\n",
      "\u001b[0;32m~/anaconda3/lib/python3.8/site-packages/tensorflow/python/framework/ops.py\u001b[0m in \u001b[0;36mdevice_v2\u001b[0;34m(device_name)\u001b[0m\n\u001b[1;32m   5304\u001b[0m   \u001b[0;32mif\u001b[0m \u001b[0mcallable\u001b[0m\u001b[0;34m(\u001b[0m\u001b[0mdevice_name\u001b[0m\u001b[0;34m)\u001b[0m\u001b[0;34m:\u001b[0m\u001b[0;34m\u001b[0m\u001b[0;34m\u001b[0m\u001b[0m\n\u001b[1;32m   5305\u001b[0m     \u001b[0;32mraise\u001b[0m \u001b[0mRuntimeError\u001b[0m\u001b[0;34m(\u001b[0m\u001b[0;34m\"tf.device does not support functions.\"\u001b[0m\u001b[0;34m)\u001b[0m\u001b[0;34m\u001b[0m\u001b[0;34m\u001b[0m\u001b[0m\n\u001b[0;32m-> 5306\u001b[0;31m   \u001b[0;32mreturn\u001b[0m \u001b[0mdevice\u001b[0m\u001b[0;34m(\u001b[0m\u001b[0mdevice_name\u001b[0m\u001b[0;34m)\u001b[0m\u001b[0;34m\u001b[0m\u001b[0;34m\u001b[0m\u001b[0m\n\u001b[0m\u001b[1;32m   5307\u001b[0m \u001b[0;34m\u001b[0m\u001b[0m\n\u001b[1;32m   5308\u001b[0m \u001b[0;34m\u001b[0m\u001b[0m\n",
      "\u001b[0;32m~/anaconda3/lib/python3.8/site-packages/tensorflow/python/framework/ops.py\u001b[0m in \u001b[0;36mdevice\u001b[0;34m(device_name_or_function)\u001b[0m\n\u001b[1;32m   5253\u001b[0m           \u001b[0;34m\"tf.device does not support functions when eager execution \"\u001b[0m\u001b[0;34m\u001b[0m\u001b[0;34m\u001b[0m\u001b[0m\n\u001b[1;32m   5254\u001b[0m           \"is enabled.\")\n\u001b[0;32m-> 5255\u001b[0;31m     \u001b[0;32mreturn\u001b[0m \u001b[0mcontext\u001b[0m\u001b[0;34m.\u001b[0m\u001b[0mdevice\u001b[0m\u001b[0;34m(\u001b[0m\u001b[0mdevice_name_or_function\u001b[0m\u001b[0;34m)\u001b[0m\u001b[0;34m\u001b[0m\u001b[0;34m\u001b[0m\u001b[0m\n\u001b[0m\u001b[1;32m   5256\u001b[0m   \u001b[0;32melif\u001b[0m \u001b[0mexecuting_eagerly_outside_functions\u001b[0m\u001b[0;34m(\u001b[0m\u001b[0;34m)\u001b[0m\u001b[0;34m:\u001b[0m\u001b[0;34m\u001b[0m\u001b[0;34m\u001b[0m\u001b[0m\n\u001b[1;32m   5257\u001b[0m     \u001b[0;34m@\u001b[0m\u001b[0mtf_contextlib\u001b[0m\u001b[0;34m.\u001b[0m\u001b[0mcontextmanager\u001b[0m\u001b[0;34m\u001b[0m\u001b[0;34m\u001b[0m\u001b[0m\n",
      "\u001b[0;32m~/anaconda3/lib/python3.8/site-packages/tensorflow/python/eager/context.py\u001b[0m in \u001b[0;36mdevice\u001b[0;34m(name)\u001b[0m\n\u001b[1;32m   2070\u001b[0m     \u001b[0mContext\u001b[0m \u001b[0mmanager\u001b[0m \u001b[0;32mfor\u001b[0m \u001b[0msetting\u001b[0m \u001b[0mthe\u001b[0m \u001b[0mdevice\u001b[0m\u001b[0;34m.\u001b[0m\u001b[0;34m\u001b[0m\u001b[0;34m\u001b[0m\u001b[0m\n\u001b[1;32m   2071\u001b[0m   \"\"\"\n\u001b[0;32m-> 2072\u001b[0;31m   \u001b[0mensure_initialized\u001b[0m\u001b[0;34m(\u001b[0m\u001b[0;34m)\u001b[0m\u001b[0;34m\u001b[0m\u001b[0;34m\u001b[0m\u001b[0m\n\u001b[0m\u001b[1;32m   2073\u001b[0m   \u001b[0;32mreturn\u001b[0m \u001b[0mcontext\u001b[0m\u001b[0;34m(\u001b[0m\u001b[0;34m)\u001b[0m\u001b[0;34m.\u001b[0m\u001b[0mdevice\u001b[0m\u001b[0;34m(\u001b[0m\u001b[0mname\u001b[0m\u001b[0;34m)\u001b[0m\u001b[0;34m\u001b[0m\u001b[0;34m\u001b[0m\u001b[0m\n\u001b[1;32m   2074\u001b[0m \u001b[0;34m\u001b[0m\u001b[0m\n",
      "\u001b[0;32m~/anaconda3/lib/python3.8/site-packages/tensorflow/python/eager/context.py\u001b[0m in \u001b[0;36mensure_initialized\u001b[0;34m()\u001b[0m\n\u001b[1;32m   1865\u001b[0m \u001b[0;32mdef\u001b[0m \u001b[0mensure_initialized\u001b[0m\u001b[0;34m(\u001b[0m\u001b[0;34m)\u001b[0m\u001b[0;34m:\u001b[0m\u001b[0;34m\u001b[0m\u001b[0;34m\u001b[0m\u001b[0m\n\u001b[1;32m   1866\u001b[0m   \u001b[0;34m\"\"\"Initialize the context.\"\"\"\u001b[0m\u001b[0;34m\u001b[0m\u001b[0;34m\u001b[0m\u001b[0m\n\u001b[0;32m-> 1867\u001b[0;31m   \u001b[0mcontext\u001b[0m\u001b[0;34m(\u001b[0m\u001b[0;34m)\u001b[0m\u001b[0;34m.\u001b[0m\u001b[0mensure_initialized\u001b[0m\u001b[0;34m(\u001b[0m\u001b[0;34m)\u001b[0m\u001b[0;34m\u001b[0m\u001b[0;34m\u001b[0m\u001b[0m\n\u001b[0m\u001b[1;32m   1868\u001b[0m \u001b[0;34m\u001b[0m\u001b[0m\n\u001b[1;32m   1869\u001b[0m \u001b[0;34m\u001b[0m\u001b[0m\n",
      "\u001b[0;32m~/anaconda3/lib/python3.8/site-packages/tensorflow/python/eager/context.py\u001b[0m in \u001b[0;36mensure_initialized\u001b[0;34m(self)\u001b[0m\n\u001b[1;32m    523\u001b[0m         \u001b[0;32mif\u001b[0m \u001b[0mself\u001b[0m\u001b[0;34m.\u001b[0m\u001b[0m_use_tfrt\u001b[0m \u001b[0;32mis\u001b[0m \u001b[0;32mnot\u001b[0m \u001b[0;32mNone\u001b[0m\u001b[0;34m:\u001b[0m\u001b[0;34m\u001b[0m\u001b[0;34m\u001b[0m\u001b[0m\n\u001b[1;32m    524\u001b[0m           \u001b[0mpywrap_tfe\u001b[0m\u001b[0;34m.\u001b[0m\u001b[0mTFE_ContextOptionsSetTfrt\u001b[0m\u001b[0;34m(\u001b[0m\u001b[0mopts\u001b[0m\u001b[0;34m,\u001b[0m \u001b[0mself\u001b[0m\u001b[0;34m.\u001b[0m\u001b[0m_use_tfrt\u001b[0m\u001b[0;34m)\u001b[0m\u001b[0;34m\u001b[0m\u001b[0;34m\u001b[0m\u001b[0m\n\u001b[0;32m--> 525\u001b[0;31m         \u001b[0mcontext_handle\u001b[0m \u001b[0;34m=\u001b[0m \u001b[0mpywrap_tfe\u001b[0m\u001b[0;34m.\u001b[0m\u001b[0mTFE_NewContext\u001b[0m\u001b[0;34m(\u001b[0m\u001b[0mopts\u001b[0m\u001b[0;34m)\u001b[0m\u001b[0;34m\u001b[0m\u001b[0;34m\u001b[0m\u001b[0m\n\u001b[0m\u001b[1;32m    526\u001b[0m       \u001b[0;32mfinally\u001b[0m\u001b[0;34m:\u001b[0m\u001b[0;34m\u001b[0m\u001b[0;34m\u001b[0m\u001b[0m\n\u001b[1;32m    527\u001b[0m         \u001b[0mpywrap_tfe\u001b[0m\u001b[0;34m.\u001b[0m\u001b[0mTFE_DeleteContextOptions\u001b[0m\u001b[0;34m(\u001b[0m\u001b[0mopts\u001b[0m\u001b[0;34m)\u001b[0m\u001b[0;34m\u001b[0m\u001b[0;34m\u001b[0m\u001b[0m\n",
      "\u001b[0;31mInternalError\u001b[0m: CUDA runtime implicit initialization on GPU:0 failed. Status: out of memory"
     ]
    }
   ],
   "source": [
    "with tf.device(\"/device:GPU:0\"):\n",
    "    model = build()\n",
    "    model.compile(optimizer = tf.optimizers.Nadam(),\n",
    "              loss = 'sparse_categorical_crossentropy',\n",
    "              metrics=['sparse_categorical_accuracy'])"
   ]
  },
  {
   "cell_type": "code",
   "execution_count": 30,
   "id": "naughty-stable",
   "metadata": {
    "scrolled": true
   },
   "outputs": [
    {
     "name": "stdout",
     "output_type": "stream",
     "text": [
      "Epoch 1/100\n",
      "664/664 [==============================] - 1229s 2s/step - loss: 3.5294 - sparse_categorical_accuracy: 0.0835 - val_loss: 5.8949 - val_sparse_categorical_accuracy: 0.0703\n",
      "Epoch 2/100\n",
      "664/664 [==============================] - 1214s 2s/step - loss: 3.0855 - sparse_categorical_accuracy: 0.1201 - val_loss: 3.2488 - val_sparse_categorical_accuracy: 0.1328\n",
      "Epoch 3/100\n",
      "664/664 [==============================] - 1209s 2s/step - loss: 2.8788 - sparse_categorical_accuracy: 0.1622 - val_loss: 4.6702 - val_sparse_categorical_accuracy: 0.1562\n",
      "Epoch 4/100\n",
      "664/664 [==============================] - 1215s 2s/step - loss: 2.7627 - sparse_categorical_accuracy: 0.1969 - val_loss: 3.0155 - val_sparse_categorical_accuracy: 0.1484\n",
      "Epoch 5/100\n",
      "664/664 [==============================] - 1220s 2s/step - loss: 2.7119 - sparse_categorical_accuracy: 0.2099 - val_loss: 3.2566 - val_sparse_categorical_accuracy: 0.1719\n",
      "Epoch 6/100\n",
      "664/664 [==============================] - 1184s 2s/step - loss: 2.6725 - sparse_categorical_accuracy: 0.2185 - val_loss: 2.7436 - val_sparse_categorical_accuracy: 0.1836\n",
      "Epoch 7/100\n",
      "664/664 [==============================] - 1195s 2s/step - loss: 2.6466 - sparse_categorical_accuracy: 0.2244 - val_loss: 2.6993 - val_sparse_categorical_accuracy: 0.1992\n",
      "Epoch 8/100\n",
      "664/664 [==============================] - 1193s 2s/step - loss: 2.6172 - sparse_categorical_accuracy: 0.2348 - val_loss: 2.5767 - val_sparse_categorical_accuracy: 0.2461\n",
      "Epoch 9/100\n",
      "664/664 [==============================] - 1210s 2s/step - loss: 2.5790 - sparse_categorical_accuracy: 0.2458 - val_loss: 3.4601 - val_sparse_categorical_accuracy: 0.1055\n",
      "Epoch 10/100\n",
      "664/664 [==============================] - 1192s 2s/step - loss: 2.5696 - sparse_categorical_accuracy: 0.2504 - val_loss: 2.7178 - val_sparse_categorical_accuracy: 0.2031\n",
      "Epoch 11/100\n",
      "664/664 [==============================] - 1200s 2s/step - loss: 2.5552 - sparse_categorical_accuracy: 0.2475 - val_loss: 2.5496 - val_sparse_categorical_accuracy: 0.2227\n",
      "Epoch 12/100\n",
      "664/664 [==============================] - 1186s 2s/step - loss: 2.4863 - sparse_categorical_accuracy: 0.2660 - val_loss: 2.4267 - val_sparse_categorical_accuracy: 0.2734\n",
      "Epoch 13/100\n",
      "664/664 [==============================] - 1203s 2s/step - loss: 2.4651 - sparse_categorical_accuracy: 0.2702 - val_loss: 3.1393 - val_sparse_categorical_accuracy: 0.1641\n",
      "Epoch 14/100\n",
      "664/664 [==============================] - 1197s 2s/step - loss: 2.4181 - sparse_categorical_accuracy: 0.2836 - val_loss: 2.9966 - val_sparse_categorical_accuracy: 0.1562\n",
      "Epoch 15/100\n",
      "664/664 [==============================] - 1202s 2s/step - loss: 2.3949 - sparse_categorical_accuracy: 0.2904 - val_loss: 2.5153 - val_sparse_categorical_accuracy: 0.2500\n",
      "Epoch 16/100\n",
      "664/664 [==============================] - 1209s 2s/step - loss: 2.3651 - sparse_categorical_accuracy: 0.2956 - val_loss: 2.3075 - val_sparse_categorical_accuracy: 0.3086\n",
      "Epoch 17/100\n",
      "664/664 [==============================] - 1196s 2s/step - loss: 2.3323 - sparse_categorical_accuracy: 0.3069 - val_loss: 2.9100 - val_sparse_categorical_accuracy: 0.1680\n",
      "Epoch 18/100\n",
      "664/664 [==============================] - 1205s 2s/step - loss: 2.2941 - sparse_categorical_accuracy: 0.3155 - val_loss: 2.2112 - val_sparse_categorical_accuracy: 0.3477\n",
      "Epoch 19/100\n",
      "664/664 [==============================] - 1192s 2s/step - loss: 2.2775 - sparse_categorical_accuracy: 0.3174 - val_loss: 2.2051 - val_sparse_categorical_accuracy: 0.3438\n",
      "Epoch 20/100\n",
      "664/664 [==============================] - 1205s 2s/step - loss: 2.2630 - sparse_categorical_accuracy: 0.3230 - val_loss: 2.3513 - val_sparse_categorical_accuracy: 0.3125\n",
      "Epoch 21/100\n",
      "664/664 [==============================] - 1192s 2s/step - loss: 2.2858 - sparse_categorical_accuracy: 0.3215 - val_loss: 2.4153 - val_sparse_categorical_accuracy: 0.2656\n",
      "Epoch 22/100\n",
      "664/664 [==============================] - 1192s 2s/step - loss: 2.2306 - sparse_categorical_accuracy: 0.3310 - val_loss: 2.1175 - val_sparse_categorical_accuracy: 0.3711\n",
      "Epoch 23/100\n",
      "664/664 [==============================] - 1203s 2s/step - loss: 2.2141 - sparse_categorical_accuracy: 0.3345 - val_loss: 2.3236 - val_sparse_categorical_accuracy: 0.3125\n",
      "Epoch 24/100\n",
      "664/664 [==============================] - 1203s 2s/step - loss: 2.1919 - sparse_categorical_accuracy: 0.3435 - val_loss: 2.4489 - val_sparse_categorical_accuracy: 0.2422\n",
      "Epoch 25/100\n",
      "664/664 [==============================] - 1221s 2s/step - loss: 2.1803 - sparse_categorical_accuracy: 0.3460 - val_loss: 2.1911 - val_sparse_categorical_accuracy: 0.3750\n",
      "Epoch 26/100\n",
      "664/664 [==============================] - 1194s 2s/step - loss: 2.1610 - sparse_categorical_accuracy: 0.3453 - val_loss: 2.2446 - val_sparse_categorical_accuracy: 0.3086\n",
      "Epoch 27/100\n",
      "664/664 [==============================] - 1200s 2s/step - loss: 2.1551 - sparse_categorical_accuracy: 0.3509 - val_loss: 2.8339 - val_sparse_categorical_accuracy: 0.1797\n",
      "Epoch 28/100\n",
      "664/664 [==============================] - 1150s 2s/step - loss: 2.1295 - sparse_categorical_accuracy: 0.3598 - val_loss: 2.1476 - val_sparse_categorical_accuracy: 0.3086\n",
      "Epoch 29/100\n",
      "664/664 [==============================] - 1149s 2s/step - loss: 2.1262 - sparse_categorical_accuracy: 0.3595 - val_loss: 2.4105 - val_sparse_categorical_accuracy: 0.2773\n",
      "Epoch 30/100\n",
      "664/664 [==============================] - 1153s 2s/step - loss: 2.1079 - sparse_categorical_accuracy: 0.3593 - val_loss: 2.4273 - val_sparse_categorical_accuracy: 0.2891\n",
      "Epoch 31/100\n",
      "664/664 [==============================] - 1144s 2s/step - loss: 2.1013 - sparse_categorical_accuracy: 0.3634 - val_loss: 2.1641 - val_sparse_categorical_accuracy: 0.3672\n",
      "Epoch 32/100\n",
      "664/664 [==============================] - 1145s 2s/step - loss: 2.0857 - sparse_categorical_accuracy: 0.3695 - val_loss: 2.2040 - val_sparse_categorical_accuracy: 0.3047\n",
      "\n",
      "Epoch 00032: ReduceLROnPlateau reducing learning rate to 0.0005000000237487257.\n",
      "Epoch 33/100\n",
      "664/664 [==============================] - 1154s 2s/step - loss: 2.0448 - sparse_categorical_accuracy: 0.3809 - val_loss: 2.4948 - val_sparse_categorical_accuracy: 0.2656\n",
      "Epoch 34/100\n",
      "664/664 [==============================] - 1155s 2s/step - loss: 2.0175 - sparse_categorical_accuracy: 0.3906 - val_loss: 3.1726 - val_sparse_categorical_accuracy: 0.1953\n",
      "Epoch 35/100\n",
      "664/664 [==============================] - 1153s 2s/step - loss: 2.0289 - sparse_categorical_accuracy: 0.3861 - val_loss: 2.2219 - val_sparse_categorical_accuracy: 0.3633\n",
      "Epoch 36/100\n",
      "664/664 [==============================] - 1151s 2s/step - loss: 2.0108 - sparse_categorical_accuracy: 0.3936 - val_loss: 2.0332 - val_sparse_categorical_accuracy: 0.3789\n",
      "Epoch 37/100\n",
      "664/664 [==============================] - 1150s 2s/step - loss: 1.9942 - sparse_categorical_accuracy: 0.3968 - val_loss: 2.2800 - val_sparse_categorical_accuracy: 0.3438\n",
      "Epoch 38/100\n",
      "664/664 [==============================] - 1147s 2s/step - loss: 2.0088 - sparse_categorical_accuracy: 0.3875 - val_loss: 2.0230 - val_sparse_categorical_accuracy: 0.3945\n",
      "Epoch 39/100\n",
      "664/664 [==============================] - 1149s 2s/step - loss: 1.9823 - sparse_categorical_accuracy: 0.3990 - val_loss: 2.0756 - val_sparse_categorical_accuracy: 0.3438\n",
      "Epoch 40/100\n",
      "664/664 [==============================] - 1149s 2s/step - loss: 1.9622 - sparse_categorical_accuracy: 0.4006 - val_loss: 1.9218 - val_sparse_categorical_accuracy: 0.4102\n",
      "Epoch 41/100\n",
      "664/664 [==============================] - 1149s 2s/step - loss: 1.9525 - sparse_categorical_accuracy: 0.4035 - val_loss: 1.9718 - val_sparse_categorical_accuracy: 0.4180\n",
      "Epoch 42/100\n",
      "664/664 [==============================] - 1150s 2s/step - loss: 1.9669 - sparse_categorical_accuracy: 0.4012 - val_loss: 2.2739 - val_sparse_categorical_accuracy: 0.3164\n",
      "Epoch 43/100\n",
      "664/664 [==============================] - 1145s 2s/step - loss: 1.9516 - sparse_categorical_accuracy: 0.4096 - val_loss: 2.1580 - val_sparse_categorical_accuracy: 0.3633\n",
      "Epoch 44/100\n",
      "664/664 [==============================] - 1148s 2s/step - loss: 1.9379 - sparse_categorical_accuracy: 0.4066 - val_loss: 2.0083 - val_sparse_categorical_accuracy: 0.4141\n",
      "Epoch 45/100\n",
      "664/664 [==============================] - 1148s 2s/step - loss: 1.9412 - sparse_categorical_accuracy: 0.4104 - val_loss: 2.0981 - val_sparse_categorical_accuracy: 0.4102\n",
      "Epoch 46/100\n",
      "664/664 [==============================] - 1156s 2s/step - loss: 1.9413 - sparse_categorical_accuracy: 0.4080 - val_loss: 3.4267 - val_sparse_categorical_accuracy: 0.1953\n",
      "Epoch 47/100\n",
      "664/664 [==============================] - 1151s 2s/step - loss: 1.9308 - sparse_categorical_accuracy: 0.4107 - val_loss: 2.1400 - val_sparse_categorical_accuracy: 0.3438\n",
      "Epoch 48/100\n",
      "664/664 [==============================] - 1160s 2s/step - loss: 1.9352 - sparse_categorical_accuracy: 0.4116 - val_loss: 2.0816 - val_sparse_categorical_accuracy: 0.3516\n",
      "\n",
      "Epoch 00048: ReduceLROnPlateau reducing learning rate to 0.0002500000118743628.\n",
      "Epoch 49/100\n",
      "664/664 [==============================] - 1148s 2s/step - loss: 1.9112 - sparse_categorical_accuracy: 0.4154 - val_loss: 2.0395 - val_sparse_categorical_accuracy: 0.3711\n",
      "Epoch 50/100\n",
      "664/664 [==============================] - 1145s 2s/step - loss: 1.8880 - sparse_categorical_accuracy: 0.4221 - val_loss: 2.0145 - val_sparse_categorical_accuracy: 0.3945\n",
      "Epoch 51/100\n",
      "664/664 [==============================] - 1149s 2s/step - loss: 1.8910 - sparse_categorical_accuracy: 0.4254 - val_loss: 2.1577 - val_sparse_categorical_accuracy: 0.3359\n",
      "Epoch 52/100\n",
      "664/664 [==============================] - 1154s 2s/step - loss: 1.8977 - sparse_categorical_accuracy: 0.4219 - val_loss: 1.9945 - val_sparse_categorical_accuracy: 0.4180\n",
      "Restoring model weights from the end of the best epoch.\n",
      "Epoch 00052: early stopping\n"
     ]
    }
   ],
   "source": [
    "\n",
    "with tf.device(\"/device:GPU:1\"):\n",
    "    history = model.fit(train_generator,\n",
    "      #steps_per_epoch=2000 // 32,  \n",
    "      epochs=100,\n",
    "      verbose=1,\n",
    "      validation_data = validation_generator,\n",
    "      validation_steps=8,\n",
    "      callbacks = callbacks)"
   ]
  },
  {
   "cell_type": "code",
   "execution_count": 32,
   "id": "2aafbc3c",
   "metadata": {
    "scrolled": true
   },
   "outputs": [],
   "source": [
    "with tf.device(\"/device:GPU:1\"):\n",
    "    model.save('CNN_v2_fullNet.h5')"
   ]
  },
  {
   "cell_type": "code",
   "execution_count": 33,
   "id": "stuck-broad",
   "metadata": {},
   "outputs": [
    {
     "data": {
      "image/png": "[encoded data removed]",
      "text/plain": [
       "<Figure size 864x288 with 2 Axes>"
      ]
     },
     "metadata": {},
     "output_type": "display_data"
    }
   ],
   "source": [
    "# plot training and validation metrics\n",
    "\n",
    "sns.set()\n",
    "fig = plt.figure(0, (12, 4))\n",
    "\n",
    "ax = plt.subplot(1, 2, 1)\n",
    "sns.lineplot(x=history.epoch, y=history.history['sparse_categorical_accuracy'], label='train')\n",
    "sns.lineplot(x=history.epoch, y=history.history['val_sparse_categorical_accuracy'], label='valid')\n",
    "plt.title('Accuracy')\n",
    "plt.tight_layout()\n",
    "\n",
    "ax = plt.subplot(1, 2, 2)\n",
    "sns.lineplot(x=history.epoch, y=history.history['loss'], label='train')\n",
    "sns.lineplot(x=history.epoch, y=history.history['val_loss'], label='valid')\n",
    "plt.title('Loss')\n",
    "plt.tight_layout()\n",
    "\n",
    "plt.savefig('CNN(500,500)_v1.png')\n",
    "\n",
    "plt.show()"
   ]
  },
  {
   "cell_type": "code",
   "execution_count": 87,
   "id": "owned-syndrome",
   "metadata": {},
   "outputs": [],
   "source": [
    "def make_prediction(path, model, size=(250,250)):\n",
    "    d = {'path': [path], 'label': [os.path.dirname(path)]}\n",
    "    df = pd.DataFrame(data=d)\n",
    "    pred_gen = ImageDataGenerator(rescale=1./255)\n",
    "    pred_generator = pred_gen.flow_from_dataframe(\n",
    "        dataframe=df,\n",
    "        x_col=\"path\",\n",
    "        y_col=\"label\",\n",
    "        target_size=size,\n",
    "        batch_size=1,\n",
    "        shuffle=False,\n",
    "        class_mode=\"sparse\",\n",
    "        seed=42\n",
    "    )\n",
    "    res = model.predict(pred_generator)\n",
    "    return (labelStringArr[np.argmax(res)], res[0][np.argmax(res)])\n",
    "    "
   ]
  },
  {
   "cell_type": "code",
   "execution_count": 88,
   "id": "athletic-adapter",
   "metadata": {},
   "outputs": [
    {
     "name": "stdout",
     "output_type": "stream",
     "text": [
      "Found 1 validated image filenames belonging to 1 classes.\n"
     ]
    },
    {
     "data": {
      "text/plain": [
       "('DNK', 0.11289916)"
      ]
     },
     "execution_count": 88,
     "metadata": {},
     "output_type": "execute_result"
    }
   ],
   "source": [
    "make_prediction(\"/mnt/data/data/POL/img_POL_50.114902597259785,21.71049290647834_180.jpg\", model)"
   ]
  },
  {
   "cell_type": "code",
   "execution_count": 91,
   "id": "southwest-catch",
   "metadata": {},
   "outputs": [
    {
     "data": {
      "text/plain": [
       "<AxesSubplot:xlabel='label', ylabel='count'>"
      ]
     },
     "execution_count": 91,
     "metadata": {},
     "output_type": "execute_result"
    },
    {
     "data": {
      "image/png": "[encoded data removed]",
      "text/plain": [
       "<Figure size 864x288 with 1 Axes>"
      ]
     },
     "metadata": {},
     "output_type": "display_data"
    }
   ],
   "source": [
    "import seaborn as sns\n",
    "plt.figure(figsize=(12,4))\n",
    "sns.countplot(x='label', data=train_df)"
   ]
  },
  {
   "cell_type": "code",
   "execution_count": 94,
   "id": "premium-audit",
   "metadata": {},
   "outputs": [
    {
     "ename": "KeyError",
     "evalue": "1",
     "output_type": "error",
     "traceback": [
      "\u001b[0;31m---------------------------------------------------------------------------\u001b[0m",
      "\u001b[0;31mKeyError\u001b[0m                                  Traceback (most recent call last)",
      "\u001b[0;32m~/conda/envs/data-science-stack-2.8.0/lib/python3.7/site-packages/pandas/core/indexes/base.py\u001b[0m in \u001b[0;36mget_loc\u001b[0;34m(self, key, method, tolerance)\u001b[0m\n\u001b[1;32m   2897\u001b[0m             \u001b[0;32mtry\u001b[0m\u001b[0;34m:\u001b[0m\u001b[0;34m\u001b[0m\u001b[0;34m\u001b[0m\u001b[0m\n\u001b[0;32m-> 2898\u001b[0;31m                 \u001b[0;32mreturn\u001b[0m \u001b[0mself\u001b[0m\u001b[0;34m.\u001b[0m\u001b[0m_engine\u001b[0m\u001b[0;34m.\u001b[0m\u001b[0mget_loc\u001b[0m\u001b[0;34m(\u001b[0m\u001b[0mcasted_key\u001b[0m\u001b[0;34m)\u001b[0m\u001b[0;34m\u001b[0m\u001b[0;34m\u001b[0m\u001b[0m\n\u001b[0m\u001b[1;32m   2899\u001b[0m             \u001b[0;32mexcept\u001b[0m \u001b[0mKeyError\u001b[0m \u001b[0;32mas\u001b[0m \u001b[0merr\u001b[0m\u001b[0;34m:\u001b[0m\u001b[0;34m\u001b[0m\u001b[0;34m\u001b[0m\u001b[0m\n",
      "\u001b[0;32mpandas/_libs/index.pyx\u001b[0m in \u001b[0;36mpandas._libs.index.IndexEngine.get_loc\u001b[0;34m()\u001b[0m\n",
      "\u001b[0;32mpandas/_libs/index.pyx\u001b[0m in \u001b[0;36mpandas._libs.index.IndexEngine.get_loc\u001b[0;34m()\u001b[0m\n",
      "\u001b[0;32mpandas/_libs/hashtable_class_helper.pxi\u001b[0m in \u001b[0;36mpandas._libs.hashtable.PyObjectHashTable.get_item\u001b[0;34m()\u001b[0m\n",
      "\u001b[0;32mpandas/_libs/hashtable_class_helper.pxi\u001b[0m in \u001b[0;36mpandas._libs.hashtable.PyObjectHashTable.get_item\u001b[0;34m()\u001b[0m\n",
      "\u001b[0;31mKeyError\u001b[0m: 1",
      "\nThe above exception was the direct cause of the following exception:\n",
      "\u001b[0;31mKeyError\u001b[0m                                  Traceback (most recent call last)",
      "\u001b[0;32m<ipython-input-94-c6e2ab72c20e>\u001b[0m in \u001b[0;36m<module>\u001b[0;34m\u001b[0m\n\u001b[1;32m      1\u001b[0m \u001b[0mplt\u001b[0m\u001b[0;34m.\u001b[0m\u001b[0mfigure\u001b[0m\u001b[0;34m(\u001b[0m\u001b[0mfigsize\u001b[0m\u001b[0;34m=\u001b[0m\u001b[0;34m(\u001b[0m\u001b[0;36m6\u001b[0m\u001b[0;34m,\u001b[0m\u001b[0;36m6\u001b[0m\u001b[0;34m)\u001b[0m\u001b[0;34m)\u001b[0m\u001b[0;34m\u001b[0m\u001b[0;34m\u001b[0m\u001b[0m\n\u001b[0;32m----> 2\u001b[0;31m \u001b[0mplt\u001b[0m\u001b[0;34m.\u001b[0m\u001b[0mimshow\u001b[0m\u001b[0;34m(\u001b[0m\u001b[0mtrain_df\u001b[0m\u001b[0;34m[\u001b[0m\u001b[0;36m1\u001b[0m\u001b[0;34m]\u001b[0m\u001b[0;34m[\u001b[0m\u001b[0;34m:\u001b[0m\u001b[0;34m,\u001b[0m\u001b[0;34m:\u001b[0m\u001b[0;34m,\u001b[0m\u001b[0;36m0\u001b[0m\u001b[0;34m]\u001b[0m\u001b[0;34m)\u001b[0m\u001b[0;34m\u001b[0m\u001b[0;34m\u001b[0m\u001b[0m\n\u001b[0m\u001b[1;32m      3\u001b[0m \u001b[0mplt\u001b[0m\u001b[0;34m.\u001b[0m\u001b[0mtitle\u001b[0m\u001b[0;34m(\u001b[0m\u001b[0mY_train\u001b[0m\u001b[0;34m[\u001b[0m\u001b[0;36m1\u001b[0m\u001b[0;34m]\u001b[0m\u001b[0;34m.\u001b[0m\u001b[0margmax\u001b[0m\u001b[0;34m(\u001b[0m\u001b[0;34m)\u001b[0m\u001b[0;34m)\u001b[0m\u001b[0;34m;\u001b[0m\u001b[0;34m\u001b[0m\u001b[0;34m\u001b[0m\u001b[0m\n",
      "\u001b[0;32m~/conda/envs/data-science-stack-2.8.0/lib/python3.7/site-packages/pandas/core/frame.py\u001b[0m in \u001b[0;36m__getitem__\u001b[0;34m(self, key)\u001b[0m\n\u001b[1;32m   2904\u001b[0m             \u001b[0;32mif\u001b[0m \u001b[0mself\u001b[0m\u001b[0;34m.\u001b[0m\u001b[0mcolumns\u001b[0m\u001b[0;34m.\u001b[0m\u001b[0mnlevels\u001b[0m \u001b[0;34m>\u001b[0m \u001b[0;36m1\u001b[0m\u001b[0;34m:\u001b[0m\u001b[0;34m\u001b[0m\u001b[0;34m\u001b[0m\u001b[0m\n\u001b[1;32m   2905\u001b[0m                 \u001b[0;32mreturn\u001b[0m \u001b[0mself\u001b[0m\u001b[0;34m.\u001b[0m\u001b[0m_getitem_multilevel\u001b[0m\u001b[0;34m(\u001b[0m\u001b[0mkey\u001b[0m\u001b[0;34m)\u001b[0m\u001b[0;34m\u001b[0m\u001b[0;34m\u001b[0m\u001b[0m\n\u001b[0;32m-> 2906\u001b[0;31m             \u001b[0mindexer\u001b[0m \u001b[0;34m=\u001b[0m \u001b[0mself\u001b[0m\u001b[0;34m.\u001b[0m\u001b[0mcolumns\u001b[0m\u001b[0;34m.\u001b[0m\u001b[0mget_loc\u001b[0m\u001b[0;34m(\u001b[0m\u001b[0mkey\u001b[0m\u001b[0;34m)\u001b[0m\u001b[0;34m\u001b[0m\u001b[0;34m\u001b[0m\u001b[0m\n\u001b[0m\u001b[1;32m   2907\u001b[0m             \u001b[0;32mif\u001b[0m \u001b[0mis_integer\u001b[0m\u001b[0;34m(\u001b[0m\u001b[0mindexer\u001b[0m\u001b[0;34m)\u001b[0m\u001b[0;34m:\u001b[0m\u001b[0;34m\u001b[0m\u001b[0;34m\u001b[0m\u001b[0m\n\u001b[1;32m   2908\u001b[0m                 \u001b[0mindexer\u001b[0m \u001b[0;34m=\u001b[0m \u001b[0;34m[\u001b[0m\u001b[0mindexer\u001b[0m\u001b[0;34m]\u001b[0m\u001b[0;34m\u001b[0m\u001b[0;34m\u001b[0m\u001b[0m\n",
      "\u001b[0;32m~/conda/envs/data-science-stack-2.8.0/lib/python3.7/site-packages/pandas/core/indexes/base.py\u001b[0m in \u001b[0;36mget_loc\u001b[0;34m(self, key, method, tolerance)\u001b[0m\n\u001b[1;32m   2898\u001b[0m                 \u001b[0;32mreturn\u001b[0m \u001b[0mself\u001b[0m\u001b[0;34m.\u001b[0m\u001b[0m_engine\u001b[0m\u001b[0;34m.\u001b[0m\u001b[0mget_loc\u001b[0m\u001b[0;34m(\u001b[0m\u001b[0mcasted_key\u001b[0m\u001b[0;34m)\u001b[0m\u001b[0;34m\u001b[0m\u001b[0;34m\u001b[0m\u001b[0m\n\u001b[1;32m   2899\u001b[0m             \u001b[0;32mexcept\u001b[0m \u001b[0mKeyError\u001b[0m \u001b[0;32mas\u001b[0m \u001b[0merr\u001b[0m\u001b[0;34m:\u001b[0m\u001b[0;34m\u001b[0m\u001b[0;34m\u001b[0m\u001b[0m\n\u001b[0;32m-> 2900\u001b[0;31m                 \u001b[0;32mraise\u001b[0m \u001b[0mKeyError\u001b[0m\u001b[0;34m(\u001b[0m\u001b[0mkey\u001b[0m\u001b[0;34m)\u001b[0m \u001b[0;32mfrom\u001b[0m \u001b[0merr\u001b[0m\u001b[0;34m\u001b[0m\u001b[0;34m\u001b[0m\u001b[0m\n\u001b[0m\u001b[1;32m   2901\u001b[0m \u001b[0;34m\u001b[0m\u001b[0m\n\u001b[1;32m   2902\u001b[0m         \u001b[0;32mif\u001b[0m \u001b[0mtolerance\u001b[0m \u001b[0;32mis\u001b[0m \u001b[0;32mnot\u001b[0m \u001b[0;32mNone\u001b[0m\u001b[0;34m:\u001b[0m\u001b[0;34m\u001b[0m\u001b[0;34m\u001b[0m\u001b[0m\n",
      "\u001b[0;31mKeyError\u001b[0m: 1"
     ]
    },
    {
     "data": {
      "text/plain": [
       "<Figure size 432x432 with 0 Axes>"
      ]
     },
     "metadata": {},
     "output_type": "display_data"
    }
   ],
   "source": [
    "print(\"on valid data\")\n",
    "pred1=model.evaluate(X_valid,Y_valid)\n",
    "print(\"accuaracy\", str(pred1[1]*100))\n",
    "print(\"Total loss\",str(pred1[0]*100))\n"
   ]
  },
  {
   "cell_type": "code",
   "execution_count": null,
   "id": "indoor-weekend",
   "metadata": {},
   "outputs": [],
   "source": []
  }
 ],
 "metadata": {
  "kernelspec": {
   "display_name": "Python 3",
   "language": "python",
   "name": "python3"
  },
  "language_info": {
   "codemirror_mode": {
    "name": "ipython",
    "version": 3
   },
   "file_extension": ".py",
   "mimetype": "text/x-python",
   "name": "python",
   "nbconvert_exporter": "python",
   "pygments_lexer": "ipython3",
   "version": "3.8.8"
  }
 },
 "nbformat": 4,
 "nbformat_minor": 5
}
