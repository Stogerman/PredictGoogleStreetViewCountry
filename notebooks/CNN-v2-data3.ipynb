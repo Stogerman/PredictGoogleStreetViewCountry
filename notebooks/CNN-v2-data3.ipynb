{
 "cells": [
  {
   "cell_type": "code",
   "execution_count": 12,
   "id": "requested-september",
   "metadata": {},
   "outputs": [],
   "source": [
    "import tensorflow as tf\n",
    "import pathlib\n",
    "import numpy as np\n",
    "import pandas as pd\n",
    "import os\n",
    "import matplotlib.pyplot as plt\n",
    "import seaborn as sns\n",
    "import cv2 as cv\n",
    "from sklearn.model_selection import train_test_split\n",
    "from tensorflow.keras.callbacks import Callback, EarlyStopping, ReduceLROnPlateau\n",
    "from tensorflow.keras.models import Sequential\n",
    "from tensorflow.keras.preprocessing.image import ImageDataGenerator\n",
    "from tensorflow.keras.layers import Flatten, Dense, Conv2D, MaxPooling2D\n",
    "from tensorflow.keras.layers import Dropout, BatchNormalization, LeakyReLU, Activation"
   ]
  },
  {
   "cell_type": "code",
   "execution_count": 13,
   "id": "growing-aspect",
   "metadata": {},
   "outputs": [
    {
     "data": {
      "text/plain": [
       "[PhysicalDevice(name='/physical_device:GPU:0', device_type='GPU'),\n",
       " PhysicalDevice(name='/physical_device:GPU:1', device_type='GPU')]"
      ]
     },
     "execution_count": 13,
     "metadata": {},
     "output_type": "execute_result"
    }
   ],
   "source": [
    "tf.config.list_physical_devices('GPU')"
   ]
  },
  {
   "cell_type": "code",
   "execution_count": 14,
   "id": "yellow-singing",
   "metadata": {},
   "outputs": [],
   "source": [
    "country_images_root = pathlib.Path(\"/home/pascal_steiger/Downloads/data3/\")"
   ]
  },
  {
   "cell_type": "code",
   "execution_count": 15,
   "id": "elegant-halifax",
   "metadata": {},
   "outputs": [],
   "source": [
    "def load_image_paths(container_path):\n",
    "    image_dir = pathlib.Path(container_path)\n",
    "    folders = [directory for directory in image_dir.iterdir() if directory.is_dir()]\n",
    "    categories = [fo.name for fo in folders]\n",
    "\n",
    "    descr = \"A image classification dataset\"\n",
    "    image_paths = []\n",
    "    flat_data = []\n",
    "    target = []\n",
    "    count = 0\n",
    "    train_img_path = []\n",
    "    train_label = []\n",
    "    for i, direc in enumerate(folders):\n",
    "        for file in direc.iterdir():\n",
    "            count += 1\n",
    "            train_img_path.append(str(file))\n",
    "            train_label.append(categories[i])\n",
    "\n",
    "    X = np.array(train_img_path)\n",
    "    y = np.array(train_label)\n",
    "    catStringArr = np.array(categories)\n",
    "\n",
    "    return X, y, catStringArr"
   ]
  },
  {
   "cell_type": "code",
   "execution_count": 16,
   "id": "exceptional-visibility",
   "metadata": {},
   "outputs": [
    {
     "data": {
      "text/html": [
       "<div>\n",
       "<style scoped>\n",
       "    .dataframe tbody tr th:only-of-type {\n",
       "        vertical-align: middle;\n",
       "    }\n",
       "\n",
       "    .dataframe tbody tr th {\n",
       "        vertical-align: top;\n",
       "    }\n",
       "\n",
       "    .dataframe thead th {\n",
       "        text-align: right;\n",
       "    }\n",
       "</style>\n",
       "<table border=\"1\" class=\"dataframe\">\n",
       "  <thead>\n",
       "    <tr style=\"text-align: right;\">\n",
       "      <th></th>\n",
       "      <th>path</th>\n",
       "      <th>label</th>\n",
       "    </tr>\n",
       "  </thead>\n",
       "  <tbody>\n",
       "    <tr>\n",
       "      <th>753</th>\n",
       "      <td>/home/pascal_steiger/Downloads/data3/ISL/img_I...</td>\n",
       "      <td>ISL</td>\n",
       "    </tr>\n",
       "    <tr>\n",
       "      <th>2378</th>\n",
       "      <td>/home/pascal_steiger/Downloads/data3/CHE/img_4...</td>\n",
       "      <td>CHE</td>\n",
       "    </tr>\n",
       "    <tr>\n",
       "      <th>2028</th>\n",
       "      <td>/home/pascal_steiger/Downloads/data3/CHE/img_4...</td>\n",
       "      <td>CHE</td>\n",
       "    </tr>\n",
       "    <tr>\n",
       "      <th>85</th>\n",
       "      <td>/home/pascal_steiger/Downloads/data3/ISL/img_I...</td>\n",
       "      <td>ISL</td>\n",
       "    </tr>\n",
       "    <tr>\n",
       "      <th>1895</th>\n",
       "      <td>/home/pascal_steiger/Downloads/data3/PRT/img_P...</td>\n",
       "      <td>PRT</td>\n",
       "    </tr>\n",
       "    <tr>\n",
       "      <th>480</th>\n",
       "      <td>/home/pascal_steiger/Downloads/data3/ISL/img_I...</td>\n",
       "      <td>ISL</td>\n",
       "    </tr>\n",
       "    <tr>\n",
       "      <th>2839</th>\n",
       "      <td>/home/pascal_steiger/Downloads/data3/CHE/img_4...</td>\n",
       "      <td>CHE</td>\n",
       "    </tr>\n",
       "    <tr>\n",
       "      <th>2912</th>\n",
       "      <td>/home/pascal_steiger/Downloads/data3/CHE/img_4...</td>\n",
       "      <td>CHE</td>\n",
       "    </tr>\n",
       "    <tr>\n",
       "      <th>2722</th>\n",
       "      <td>/home/pascal_steiger/Downloads/data3/CHE/img_4...</td>\n",
       "      <td>CHE</td>\n",
       "    </tr>\n",
       "    <tr>\n",
       "      <th>2846</th>\n",
       "      <td>/home/pascal_steiger/Downloads/data3/CHE/img_4...</td>\n",
       "      <td>CHE</td>\n",
       "    </tr>\n",
       "  </tbody>\n",
       "</table>\n",
       "</div>"
      ],
      "text/plain": [
       "                                                   path label\n",
       "753   /home/pascal_steiger/Downloads/data3/ISL/img_I...   ISL\n",
       "2378  /home/pascal_steiger/Downloads/data3/CHE/img_4...   CHE\n",
       "2028  /home/pascal_steiger/Downloads/data3/CHE/img_4...   CHE\n",
       "85    /home/pascal_steiger/Downloads/data3/ISL/img_I...   ISL\n",
       "1895  /home/pascal_steiger/Downloads/data3/PRT/img_P...   PRT\n",
       "480   /home/pascal_steiger/Downloads/data3/ISL/img_I...   ISL\n",
       "2839  /home/pascal_steiger/Downloads/data3/CHE/img_4...   CHE\n",
       "2912  /home/pascal_steiger/Downloads/data3/CHE/img_4...   CHE\n",
       "2722  /home/pascal_steiger/Downloads/data3/CHE/img_4...   CHE\n",
       "2846  /home/pascal_steiger/Downloads/data3/CHE/img_4...   CHE"
      ]
     },
     "execution_count": 16,
     "metadata": {},
     "output_type": "execute_result"
    }
   ],
   "source": [
    "X = []\n",
    "y = []\n",
    "X, y, labelStringArr = load_image_paths(\"/home/pascal_steiger/Downloads/data3/\")\n",
    "img_df = pd.DataFrame(zip(X, y), columns=[\"path\", \"label\"])\n",
    "\n",
    "img_df.sample(n=10)"
   ]
  },
  {
   "cell_type": "code",
   "execution_count": 17,
   "id": "rapid-vessel",
   "metadata": {},
   "outputs": [
    {
     "name": "stdout",
     "output_type": "stream",
     "text": [
      "                                                   path label\n",
      "809   /home/pascal_steiger/Downloads/data3/ISL/img_I...   ISL\n",
      "353   /home/pascal_steiger/Downloads/data3/ISL/img_I...   ISL\n",
      "1257  /home/pascal_steiger/Downloads/data3/PRT/img_P...   PRT\n",
      "659   /home/pascal_steiger/Downloads/data3/ISL/img_I...   ISL\n",
      "205   /home/pascal_steiger/Downloads/data3/ISL/img_I...   ISL\n",
      "(2409, 2)\n",
      "                                                   path label\n",
      "1760  /home/pascal_steiger/Downloads/data3/PRT/img_P...   PRT\n",
      "479   /home/pascal_steiger/Downloads/data3/ISL/img_I...   ISL\n",
      "2798  /home/pascal_steiger/Downloads/data3/CHE/img_4...   CHE\n",
      "819   /home/pascal_steiger/Downloads/data3/ISL/img_I...   ISL\n",
      "410   /home/pascal_steiger/Downloads/data3/ISL/img_I...   ISL\n",
      "(603, 2)\n"
     ]
    }
   ],
   "source": [
    "train_df, test_df = train_test_split(img_df, shuffle=True, test_size=0.2, random_state=42)\n",
    "\n",
    "\n",
    "print(train_df.sample(n=5))\n",
    "print(train_df.shape)\n",
    "print(test_df.sample(n=5))\n",
    "print(test_df.shape)"
   ]
  },
  {
   "cell_type": "code",
   "execution_count": 18,
   "id": "sexual-darwin",
   "metadata": {},
   "outputs": [],
   "source": [
    "train_datagen = ImageDataGenerator(\n",
    "    rescale=1./255,\n",
    "    rotation_range=15,\n",
    "    width_shift_range=0.15,\n",
    "    height_shift_range=0.15,\n",
    "    shear_range=0.15,\n",
    "    zoom_range=0.15,\n",
    "    horizontal_flip=True\n",
    ")\n",
    "\n",
    "test_datagen = ImageDataGenerator(rescale=1./255)"
   ]
  },
  {
   "cell_type": "code",
   "execution_count": 19,
   "id": "egyptian-painting",
   "metadata": {},
   "outputs": [
    {
     "name": "stdout",
     "output_type": "stream",
     "text": [
      "Found 2409 validated image filenames belonging to 3 classes.\n",
      "Found 603 validated image filenames belonging to 3 classes.\n"
     ]
    }
   ],
   "source": [
    "train_generator = train_datagen.flow_from_dataframe(\n",
    "        dataframe=train_df,\n",
    "        x_col=\"path\",\n",
    "        y_col=\"label\",\n",
    "        target_size=(500, 500),\n",
    "        batch_size=32,\n",
    "        class_mode=\"sparse\",\n",
    "        seed=42\n",
    ")\n",
    "\n",
    "\n",
    "validation_generator = test_datagen.flow_from_dataframe(\n",
    "        dataframe=test_df,\n",
    "        x_col=\"path\",\n",
    "        y_col=\"label\",\n",
    "        target_size=(500, 500),\n",
    "        batch_size=32,\n",
    "        class_mode=\"sparse\",\n",
    "        seed=42\n",
    ")"
   ]
  },
  {
   "cell_type": "code",
   "execution_count": 20,
   "id": "appointed-carbon",
   "metadata": {},
   "outputs": [],
   "source": [
    "# create function to build neural network\n",
    "\n",
    "def build():\n",
    "    network = Sequential(name='DCNN')\n",
    "\n",
    "    network.add(\n",
    "        Conv2D(\n",
    "            filters=64,\n",
    "            kernel_size=(5,5),\n",
    "            input_shape=(500,500, 3),\n",
    "            activation='elu',\n",
    "            padding='same',\n",
    "            kernel_initializer='he_normal',\n",
    "            name='conv2d'\n",
    "        )\n",
    "    )\n",
    "    \n",
    "    network.add(BatchNormalization(name='batchnorm_0'))\n",
    "    \n",
    "    network.add(MaxPooling2D(pool_size=(2,2), name='maxpool2d_0'))\n",
    "    \n",
    "    network.add(\n",
    "        Conv2D(\n",
    "            filters=64,\n",
    "            kernel_size=(5,5),\n",
    "            input_shape=(250,250, 3),\n",
    "            activation='elu',\n",
    "            padding='same',\n",
    "            kernel_initializer='he_normal',\n",
    "            name='conv2d_1'\n",
    "        )\n",
    "    )\n",
    "    network.add(BatchNormalization(name='batchnorm_1'))\n",
    "    network.add(\n",
    "        Conv2D(\n",
    "            filters=64,\n",
    "            kernel_size=(5,5),\n",
    "            activation='elu',\n",
    "            padding='same',\n",
    "            kernel_initializer='he_normal',\n",
    "            name='conv2d_2'\n",
    "        )\n",
    "    )\n",
    "    network.add(BatchNormalization(name='batchnorm_2'))\n",
    "    \n",
    "    network.add(MaxPooling2D(pool_size=(2,2), name='maxpool2d_1'))\n",
    "    network.add(Dropout(0.4, name='dropout_1'))\n",
    "\n",
    "    network.add(\n",
    "        Conv2D(\n",
    "            filters=128,\n",
    "            kernel_size=(3,3),\n",
    "            activation='elu',\n",
    "            padding='same',\n",
    "            kernel_initializer='he_normal',\n",
    "            name='conv2d_4'\n",
    "        )\n",
    "    )\n",
    "    network.add(BatchNormalization(name='batchnorm_4'))\n",
    "    \n",
    "    network.add(MaxPooling2D(pool_size=(2,2), name='maxpool2d_2'))\n",
    "    network.add(Dropout(0.4, name='dropout_2'))\n",
    "\n",
    "\n",
    "\n",
    "    network.add(Flatten(name='flatten'))\n",
    "        \n",
    "    network.add(\n",
    "        Dense(\n",
    "            128,\n",
    "            activation='elu',\n",
    "            kernel_initializer='he_normal',\n",
    "            name='dense_1'\n",
    "        )\n",
    "    )\n",
    "    network.add(BatchNormalization(name='batchnorm_7'))\n",
    "    \n",
    "    network.add(Dropout(0.6, name='dropout_4'))\n",
    "    \n",
    "    network.add(\n",
    "        Dense(\n",
    "            26,\n",
    "            activation='softmax',\n",
    "            name='out_layer'\n",
    "        )\n",
    "    )\n",
    "    \n",
    "    optimizer = tf.optimizers.Nadam(\n",
    "        learning_rate=0.001,\n",
    "        beta_1=0.9,\n",
    "        beta_2=0.999,\n",
    "        epsilon=1e-07,\n",
    "        name='Nadam'\n",
    "    )\n",
    "    \n",
    "    network.compile(\n",
    "        loss='sparse_categorical_crossentropy',\n",
    "        optimizer=optimizer,\n",
    "        metrics=[tf.keras.metrics.SparseCategoricalAccuracy()]\n",
    "    )\n",
    "    \n",
    "    network.summary()\n",
    "    \n",
    "    return network"
   ]
  },
  {
   "cell_type": "code",
   "execution_count": 21,
   "id": "eight-poison",
   "metadata": {},
   "outputs": [],
   "source": [
    "early_stopping = EarlyStopping(\n",
    "    monitor='val_sparse_categorical_accuracy',\n",
    "    min_delta=0.00005,\n",
    "    patience=11,\n",
    "    verbose=1,\n",
    "    restore_best_weights=True,\n",
    ")\n",
    "\n",
    "lr_scheduler = ReduceLROnPlateau(\n",
    "    monitor='val_sparse_categorical_accuracy',\n",
    "    factor=0.5,\n",
    "    patience=7,\n",
    "    min_lr=1e-7,\n",
    "    verbose=1,\n",
    ")\n",
    "\n",
    "callbacks = [\n",
    "    early_stopping,\n",
    "    lr_scheduler,\n",
    "]"
   ]
  },
  {
   "cell_type": "code",
   "execution_count": 22,
   "id": "widespread-reconstruction",
   "metadata": {
    "scrolled": true
   },
   "outputs": [
    {
     "name": "stdout",
     "output_type": "stream",
     "text": [
      "Model: \"DCNN\"\n",
      "_________________________________________________________________\n",
      "Layer (type)                 Output Shape              Param #   \n",
      "=================================================================\n",
      "conv2d (Conv2D)              (None, 500, 500, 64)      4864      \n",
      "_________________________________________________________________\n",
      "batchnorm_0 (BatchNormalizat (None, 500, 500, 64)      256       \n",
      "_________________________________________________________________\n",
      "maxpool2d_0 (MaxPooling2D)   (None, 250, 250, 64)      0         \n",
      "_________________________________________________________________\n",
      "conv2d_1 (Conv2D)            (None, 250, 250, 64)      102464    \n",
      "_________________________________________________________________\n",
      "batchnorm_1 (BatchNormalizat (None, 250, 250, 64)      256       \n",
      "_________________________________________________________________\n",
      "conv2d_2 (Conv2D)            (None, 250, 250, 64)      102464    \n",
      "_________________________________________________________________\n",
      "batchnorm_2 (BatchNormalizat (None, 250, 250, 64)      256       \n",
      "_________________________________________________________________\n",
      "maxpool2d_1 (MaxPooling2D)   (None, 125, 125, 64)      0         \n",
      "_________________________________________________________________\n",
      "dropout_1 (Dropout)          (None, 125, 125, 64)      0         \n",
      "_________________________________________________________________\n",
      "conv2d_4 (Conv2D)            (None, 125, 125, 128)     73856     \n",
      "_________________________________________________________________\n",
      "batchnorm_4 (BatchNormalizat (None, 125, 125, 128)     512       \n",
      "_________________________________________________________________\n",
      "maxpool2d_2 (MaxPooling2D)   (None, 62, 62, 128)       0         \n",
      "_________________________________________________________________\n",
      "dropout_2 (Dropout)          (None, 62, 62, 128)       0         \n",
      "_________________________________________________________________\n",
      "flatten (Flatten)            (None, 492032)            0         \n",
      "_________________________________________________________________\n",
      "dense_1 (Dense)              (None, 128)               62980224  \n",
      "_________________________________________________________________\n",
      "batchnorm_7 (BatchNormalizat (None, 128)               512       \n",
      "_________________________________________________________________\n",
      "dropout_4 (Dropout)          (None, 128)               0         \n",
      "_________________________________________________________________\n",
      "out_layer (Dense)            (None, 26)                3354      \n",
      "=================================================================\n",
      "Total params: 63,269,018\n",
      "Trainable params: 63,268,122\n",
      "Non-trainable params: 896\n",
      "_________________________________________________________________\n"
     ]
    }
   ],
   "source": [
    "with tf.device(\"/device:GPU:0\"):\n",
    "    model = build()\n",
    "    model.compile(optimizer = tf.optimizers.Nadam(),\n",
    "              loss = 'sparse_categorical_crossentropy',\n",
    "              metrics=['sparse_categorical_accuracy'])"
   ]
  },
  {
   "cell_type": "code",
   "execution_count": 23,
   "id": "naughty-stable",
   "metadata": {
    "scrolled": true
   },
   "outputs": [
    {
     "name": "stdout",
     "output_type": "stream",
     "text": [
      "Epoch 1/100\n",
      "76/76 [==============================] - 146s 2s/step - loss: 1.8577 - sparse_categorical_accuracy: 0.6314 - val_loss: 5.9596 - val_sparse_categorical_accuracy: 0.3359\n",
      "Epoch 2/100\n",
      "76/76 [==============================] - 136s 2s/step - loss: 1.2351 - sparse_categorical_accuracy: 0.7273 - val_loss: 4.1322 - val_sparse_categorical_accuracy: 0.4922\n",
      "Epoch 3/100\n",
      "76/76 [==============================] - 136s 2s/step - loss: 0.9727 - sparse_categorical_accuracy: 0.7626 - val_loss: 4.4251 - val_sparse_categorical_accuracy: 0.6172\n",
      "Epoch 4/100\n",
      "76/76 [==============================] - 134s 2s/step - loss: 0.7575 - sparse_categorical_accuracy: 0.7858 - val_loss: 6.3739 - val_sparse_categorical_accuracy: 0.5195\n",
      "Epoch 5/100\n",
      "76/76 [==============================] - 134s 2s/step - loss: 0.6534 - sparse_categorical_accuracy: 0.7954 - val_loss: 3.1390 - val_sparse_categorical_accuracy: 0.6719\n",
      "Epoch 6/100\n",
      "76/76 [==============================] - 135s 2s/step - loss: 0.5613 - sparse_categorical_accuracy: 0.8136 - val_loss: 9.1882 - val_sparse_categorical_accuracy: 0.6289\n",
      "Epoch 7/100\n",
      "76/76 [==============================] - 135s 2s/step - loss: 0.5214 - sparse_categorical_accuracy: 0.8190 - val_loss: 1.0413 - val_sparse_categorical_accuracy: 0.7578\n",
      "Epoch 8/100\n",
      "76/76 [==============================] - 137s 2s/step - loss: 0.5344 - sparse_categorical_accuracy: 0.8149 - val_loss: 6.4860 - val_sparse_categorical_accuracy: 0.4375\n",
      "Epoch 9/100\n",
      "76/76 [==============================] - 135s 2s/step - loss: 0.6572 - sparse_categorical_accuracy: 0.7858 - val_loss: 17.5535 - val_sparse_categorical_accuracy: 0.1289\n",
      "Epoch 10/100\n",
      "76/76 [==============================] - 137s 2s/step - loss: 0.6257 - sparse_categorical_accuracy: 0.7775 - val_loss: 1.1232 - val_sparse_categorical_accuracy: 0.7227\n",
      "Epoch 11/100\n",
      "76/76 [==============================] - 135s 2s/step - loss: 0.5767 - sparse_categorical_accuracy: 0.7978 - val_loss: 0.5829 - val_sparse_categorical_accuracy: 0.8359\n",
      "Epoch 12/100\n",
      "76/76 [==============================] - 134s 2s/step - loss: 0.4556 - sparse_categorical_accuracy: 0.8290 - val_loss: 4.4275 - val_sparse_categorical_accuracy: 0.7812\n",
      "Epoch 13/100\n",
      "76/76 [==============================] - 134s 2s/step - loss: 0.4195 - sparse_categorical_accuracy: 0.8410 - val_loss: 4.9552 - val_sparse_categorical_accuracy: 0.6602\n",
      "Epoch 14/100\n",
      "76/76 [==============================] - 135s 2s/step - loss: 0.4245 - sparse_categorical_accuracy: 0.8447 - val_loss: 1.8126 - val_sparse_categorical_accuracy: 0.6211\n",
      "Epoch 15/100\n",
      "76/76 [==============================] - 134s 2s/step - loss: 0.4231 - sparse_categorical_accuracy: 0.8402 - val_loss: 9.2558 - val_sparse_categorical_accuracy: 0.6445\n",
      "Epoch 16/100\n",
      "76/76 [==============================] - 133s 2s/step - loss: 0.3775 - sparse_categorical_accuracy: 0.8531 - val_loss: 3.2175 - val_sparse_categorical_accuracy: 0.6914\n",
      "Epoch 17/100\n",
      "76/76 [==============================] - 136s 2s/step - loss: 0.4184 - sparse_categorical_accuracy: 0.8589 - val_loss: 2.3465 - val_sparse_categorical_accuracy: 0.7109\n",
      "Epoch 18/100\n",
      "76/76 [==============================] - 134s 2s/step - loss: 0.3567 - sparse_categorical_accuracy: 0.8589 - val_loss: 10.9217 - val_sparse_categorical_accuracy: 0.5508\n",
      "\n",
      "Epoch 00018: ReduceLROnPlateau reducing learning rate to 0.0005000000237487257.\n",
      "Epoch 19/100\n",
      "76/76 [==============================] - 136s 2s/step - loss: 0.3570 - sparse_categorical_accuracy: 0.8692 - val_loss: 2.1400 - val_sparse_categorical_accuracy: 0.8008\n",
      "Epoch 20/100\n",
      "76/76 [==============================] - 134s 2s/step - loss: 0.3210 - sparse_categorical_accuracy: 0.8738 - val_loss: 1.6379 - val_sparse_categorical_accuracy: 0.7891\n",
      "Epoch 21/100\n",
      "76/76 [==============================] - 134s 2s/step - loss: 0.3830 - sparse_categorical_accuracy: 0.8489 - val_loss: 1.9568 - val_sparse_categorical_accuracy: 0.6016\n",
      "Epoch 22/100\n",
      "76/76 [==============================] - 136s 2s/step - loss: 0.3257 - sparse_categorical_accuracy: 0.8804 - val_loss: 3.5744 - val_sparse_categorical_accuracy: 0.7617\n",
      "Restoring model weights from the end of the best epoch.\n",
      "Epoch 00022: early stopping\n"
     ]
    }
   ],
   "source": [
    "\n",
    "with tf.device(\"/device:GPU:0\"):\n",
    "    history = model.fit(train_generator,\n",
    "      #steps_per_epoch=2000 // 32,  \n",
    "      epochs=100,\n",
    "      verbose=1,\n",
    "      validation_data = validation_generator,\n",
    "      validation_steps=8,\n",
    "      callbacks = callbacks)"
   ]
  },
  {
   "cell_type": "code",
   "execution_count": 24,
   "id": "2aafbc3c",
   "metadata": {
    "scrolled": true
   },
   "outputs": [],
   "source": [
    "with tf.device(\"/device:GPU:1\"):\n",
    "    model.save('CNN_v2_fullNet_attempt3.h5')"
   ]
  },
  {
   "cell_type": "code",
   "execution_count": 25,
   "id": "stuck-broad",
   "metadata": {},
   "outputs": [
    {
     "data": {
      "image/png": "[encoded data removed]",
      "text/plain": [
       "<Figure size 864x288 with 2 Axes>"
      ]
     },
     "metadata": {},
     "output_type": "display_data"
    }
   ],
   "source": [
    "# plot training and validation metrics\n",
    "\n",
    "sns.set()\n",
    "fig = plt.figure(0, (12, 4))\n",
    "\n",
    "ax = plt.subplot(1, 2, 1)\n",
    "sns.lineplot(x=history.epoch, y=history.history['sparse_categorical_accuracy'], label='train')\n",
    "sns.lineplot(x=history.epoch, y=history.history['val_sparse_categorical_accuracy'], label='valid')\n",
    "plt.title('Accuracy')\n",
    "plt.tight_layout()\n",
    "\n",
    "ax = plt.subplot(1, 2, 2)\n",
    "sns.lineplot(x=history.epoch, y=history.history['loss'], label='train')\n",
    "sns.lineplot(x=history.epoch, y=history.history['val_loss'], label='valid')\n",
    "plt.title('Loss')\n",
    "plt.tight_layout()\n",
    "\n",
    "plt.savefig('CNN(500,500)_v2_attempt3.png')\n",
    "\n",
    "plt.show()"
   ]
  },
  {
   "cell_type": "code",
   "execution_count": 26,
   "id": "owned-syndrome",
   "metadata": {},
   "outputs": [],
   "source": [
    "def make_prediction(path, model, size=(250,250)):\n",
    "    d = {'path': [path], 'label': [os.path.dirname(path)]}\n",
    "    df = pd.DataFrame(data=d)\n",
    "    pred_gen = ImageDataGenerator(rescale=1./255)\n",
    "    pred_generator = pred_gen.flow_from_dataframe(\n",
    "        dataframe=df,\n",
    "        x_col=\"path\",\n",
    "        y_col=\"label\",\n",
    "        target_size=size,\n",
    "        batch_size=1,\n",
    "        shuffle=False,\n",
    "        class_mode=\"sparse\",\n",
    "        seed=42\n",
    "    )\n",
    "    res = model.predict(pred_generator)\n",
    "    return (labelStringArr[np.argmax(res)], res[0][np.argmax(res)])\n",
    "    "
   ]
  },
  {
   "cell_type": "code",
   "execution_count": 27,
   "id": "athletic-adapter",
   "metadata": {},
   "outputs": [
    {
     "name": "stdout",
     "output_type": "stream",
     "text": [
      "Found 0 validated image filenames belonging to 0 classes.\n"
     ]
    },
    {
     "name": "stderr",
     "output_type": "stream",
     "text": [
      "/home/pascal_steiger/.local/lib/python3.8/site-packages/keras_preprocessing/image/dataframe_iterator.py:279: UserWarning: Found 1 invalid image filename(s) in x_col=\"path\". These filename(s) will be ignored.\n",
      "  warnings.warn(\n"
     ]
    },
    {
     "ename": "ValueError",
     "evalue": "Asked to retrieve element 0, but the Sequence has length 0",
     "output_type": "error",
     "traceback": [
      "\u001b[0;31m---------------------------------------------------------------------------\u001b[0m",
      "\u001b[0;31mValueError\u001b[0m                                Traceback (most recent call last)",
      "\u001b[0;32m<ipython-input-27-38b7fbcb2819>\u001b[0m in \u001b[0;36m<module>\u001b[0;34m\u001b[0m\n\u001b[0;32m----> 1\u001b[0;31m \u001b[0mmake_prediction\u001b[0m\u001b[0;34m(\u001b[0m\u001b[0;34m\"/mnt/data/data/POL/img_POL_50.114902597259785,21.71049290647834_180.jpg\"\u001b[0m\u001b[0;34m,\u001b[0m \u001b[0mmodel\u001b[0m\u001b[0;34m)\u001b[0m\u001b[0;34m\u001b[0m\u001b[0;34m\u001b[0m\u001b[0m\n\u001b[0m",
      "\u001b[0;32m<ipython-input-26-f043e30e0e03>\u001b[0m in \u001b[0;36mmake_prediction\u001b[0;34m(path, model, size)\u001b[0m\n\u001b[1;32m     13\u001b[0m         \u001b[0mseed\u001b[0m\u001b[0;34m=\u001b[0m\u001b[0;36m42\u001b[0m\u001b[0;34m\u001b[0m\u001b[0;34m\u001b[0m\u001b[0m\n\u001b[1;32m     14\u001b[0m     )\n\u001b[0;32m---> 15\u001b[0;31m     \u001b[0mres\u001b[0m \u001b[0;34m=\u001b[0m \u001b[0mmodel\u001b[0m\u001b[0;34m.\u001b[0m\u001b[0mpredict\u001b[0m\u001b[0;34m(\u001b[0m\u001b[0mpred_generator\u001b[0m\u001b[0;34m)\u001b[0m\u001b[0;34m\u001b[0m\u001b[0;34m\u001b[0m\u001b[0m\n\u001b[0m\u001b[1;32m     16\u001b[0m     \u001b[0;32mreturn\u001b[0m \u001b[0;34m(\u001b[0m\u001b[0mlabelStringArr\u001b[0m\u001b[0;34m[\u001b[0m\u001b[0mnp\u001b[0m\u001b[0;34m.\u001b[0m\u001b[0margmax\u001b[0m\u001b[0;34m(\u001b[0m\u001b[0mres\u001b[0m\u001b[0;34m)\u001b[0m\u001b[0;34m]\u001b[0m\u001b[0;34m,\u001b[0m \u001b[0mres\u001b[0m\u001b[0;34m[\u001b[0m\u001b[0;36m0\u001b[0m\u001b[0;34m]\u001b[0m\u001b[0;34m[\u001b[0m\u001b[0mnp\u001b[0m\u001b[0;34m.\u001b[0m\u001b[0margmax\u001b[0m\u001b[0;34m(\u001b[0m\u001b[0mres\u001b[0m\u001b[0;34m)\u001b[0m\u001b[0;34m]\u001b[0m\u001b[0;34m)\u001b[0m\u001b[0;34m\u001b[0m\u001b[0;34m\u001b[0m\u001b[0m\n\u001b[1;32m     17\u001b[0m \u001b[0;34m\u001b[0m\u001b[0m\n",
      "\u001b[0;32m~/anaconda3/lib/python3.8/site-packages/tensorflow/python/keras/engine/training.py\u001b[0m in \u001b[0;36mpredict\u001b[0;34m(self, x, batch_size, verbose, steps, callbacks, max_queue_size, workers, use_multiprocessing)\u001b[0m\n\u001b[1;32m   1694\u001b[0m                         '. Consider setting it to AutoShardPolicy.DATA.')\n\u001b[1;32m   1695\u001b[0m \u001b[0;34m\u001b[0m\u001b[0m\n\u001b[0;32m-> 1696\u001b[0;31m       data_handler = data_adapter.get_data_handler(\n\u001b[0m\u001b[1;32m   1697\u001b[0m           \u001b[0mx\u001b[0m\u001b[0;34m=\u001b[0m\u001b[0mx\u001b[0m\u001b[0;34m,\u001b[0m\u001b[0;34m\u001b[0m\u001b[0;34m\u001b[0m\u001b[0m\n\u001b[1;32m   1698\u001b[0m           \u001b[0mbatch_size\u001b[0m\u001b[0;34m=\u001b[0m\u001b[0mbatch_size\u001b[0m\u001b[0;34m,\u001b[0m\u001b[0;34m\u001b[0m\u001b[0;34m\u001b[0m\u001b[0m\n",
      "\u001b[0;32m~/anaconda3/lib/python3.8/site-packages/tensorflow/python/keras/engine/data_adapter.py\u001b[0m in \u001b[0;36mget_data_handler\u001b[0;34m(*args, **kwargs)\u001b[0m\n\u001b[1;32m   1362\u001b[0m   \u001b[0;32mif\u001b[0m \u001b[0mgetattr\u001b[0m\u001b[0;34m(\u001b[0m\u001b[0mkwargs\u001b[0m\u001b[0;34m[\u001b[0m\u001b[0;34m\"model\"\u001b[0m\u001b[0;34m]\u001b[0m\u001b[0;34m,\u001b[0m \u001b[0;34m\"_cluster_coordinator\"\u001b[0m\u001b[0;34m,\u001b[0m \u001b[0;32mNone\u001b[0m\u001b[0;34m)\u001b[0m\u001b[0;34m:\u001b[0m\u001b[0;34m\u001b[0m\u001b[0;34m\u001b[0m\u001b[0m\n\u001b[1;32m   1363\u001b[0m     \u001b[0;32mreturn\u001b[0m \u001b[0m_ClusterCoordinatorDataHandler\u001b[0m\u001b[0;34m(\u001b[0m\u001b[0;34m*\u001b[0m\u001b[0margs\u001b[0m\u001b[0;34m,\u001b[0m \u001b[0;34m**\u001b[0m\u001b[0mkwargs\u001b[0m\u001b[0;34m)\u001b[0m\u001b[0;34m\u001b[0m\u001b[0;34m\u001b[0m\u001b[0m\n\u001b[0;32m-> 1364\u001b[0;31m   \u001b[0;32mreturn\u001b[0m \u001b[0mDataHandler\u001b[0m\u001b[0;34m(\u001b[0m\u001b[0;34m*\u001b[0m\u001b[0margs\u001b[0m\u001b[0;34m,\u001b[0m \u001b[0;34m**\u001b[0m\u001b[0mkwargs\u001b[0m\u001b[0;34m)\u001b[0m\u001b[0;34m\u001b[0m\u001b[0;34m\u001b[0m\u001b[0m\n\u001b[0m\u001b[1;32m   1365\u001b[0m \u001b[0;34m\u001b[0m\u001b[0m\n\u001b[1;32m   1366\u001b[0m \u001b[0;34m\u001b[0m\u001b[0m\n",
      "\u001b[0;32m~/anaconda3/lib/python3.8/site-packages/tensorflow/python/keras/engine/data_adapter.py\u001b[0m in \u001b[0;36m__init__\u001b[0;34m(self, x, y, sample_weight, batch_size, steps_per_epoch, initial_epoch, epochs, shuffle, class_weight, max_queue_size, workers, use_multiprocessing, model, steps_per_execution, distribute)\u001b[0m\n\u001b[1;32m   1152\u001b[0m     \u001b[0madapter_cls\u001b[0m \u001b[0;34m=\u001b[0m \u001b[0mselect_data_adapter\u001b[0m\u001b[0;34m(\u001b[0m\u001b[0mx\u001b[0m\u001b[0;34m,\u001b[0m \u001b[0my\u001b[0m\u001b[0;34m)\u001b[0m\u001b[0;34m\u001b[0m\u001b[0;34m\u001b[0m\u001b[0m\n\u001b[1;32m   1153\u001b[0m     \u001b[0mself\u001b[0m\u001b[0;34m.\u001b[0m\u001b[0m_verify_data_adapter_compatibility\u001b[0m\u001b[0;34m(\u001b[0m\u001b[0madapter_cls\u001b[0m\u001b[0;34m)\u001b[0m\u001b[0;34m\u001b[0m\u001b[0;34m\u001b[0m\u001b[0m\n\u001b[0;32m-> 1154\u001b[0;31m     self._adapter = adapter_cls(\n\u001b[0m\u001b[1;32m   1155\u001b[0m         \u001b[0mx\u001b[0m\u001b[0;34m,\u001b[0m\u001b[0;34m\u001b[0m\u001b[0;34m\u001b[0m\u001b[0m\n\u001b[1;32m   1156\u001b[0m         \u001b[0my\u001b[0m\u001b[0;34m,\u001b[0m\u001b[0;34m\u001b[0m\u001b[0;34m\u001b[0m\u001b[0m\n",
      "\u001b[0;32m~/anaconda3/lib/python3.8/site-packages/tensorflow/python/keras/engine/data_adapter.py\u001b[0m in \u001b[0;36m__init__\u001b[0;34m(self, x, y, sample_weights, shuffle, workers, use_multiprocessing, max_queue_size, model, **kwargs)\u001b[0m\n\u001b[1;32m    930\u001b[0m     \u001b[0mself\u001b[0m\u001b[0;34m.\u001b[0m\u001b[0m_keras_sequence\u001b[0m \u001b[0;34m=\u001b[0m \u001b[0mx\u001b[0m\u001b[0;34m\u001b[0m\u001b[0;34m\u001b[0m\u001b[0m\n\u001b[1;32m    931\u001b[0m     \u001b[0mself\u001b[0m\u001b[0;34m.\u001b[0m\u001b[0m_enqueuer\u001b[0m \u001b[0;34m=\u001b[0m \u001b[0;32mNone\u001b[0m\u001b[0;34m\u001b[0m\u001b[0;34m\u001b[0m\u001b[0m\n\u001b[0;32m--> 932\u001b[0;31m     super(KerasSequenceAdapter, self).__init__(\n\u001b[0m\u001b[1;32m    933\u001b[0m         \u001b[0mx\u001b[0m\u001b[0;34m,\u001b[0m\u001b[0;34m\u001b[0m\u001b[0;34m\u001b[0m\u001b[0m\n\u001b[1;32m    934\u001b[0m         \u001b[0mshuffle\u001b[0m\u001b[0;34m=\u001b[0m\u001b[0;32mFalse\u001b[0m\u001b[0;34m,\u001b[0m  \u001b[0;31m# Shuffle is handed in the _make_callable override.\u001b[0m\u001b[0;34m\u001b[0m\u001b[0;34m\u001b[0m\u001b[0m\n",
      "\u001b[0;32m~/anaconda3/lib/python3.8/site-packages/tensorflow/python/keras/engine/data_adapter.py\u001b[0m in \u001b[0;36m__init__\u001b[0;34m(self, x, y, sample_weights, workers, use_multiprocessing, max_queue_size, model, **kwargs)\u001b[0m\n\u001b[1;32m    807\u001b[0m     \u001b[0;31m# Since we have to know the dtype of the python generator when we build the\u001b[0m\u001b[0;34m\u001b[0m\u001b[0;34m\u001b[0m\u001b[0;34m\u001b[0m\u001b[0m\n\u001b[1;32m    808\u001b[0m     \u001b[0;31m# dataset, we have to look at a batch to infer the structure.\u001b[0m\u001b[0;34m\u001b[0m\u001b[0;34m\u001b[0m\u001b[0;34m\u001b[0m\u001b[0m\n\u001b[0;32m--> 809\u001b[0;31m     \u001b[0mpeek\u001b[0m\u001b[0;34m,\u001b[0m \u001b[0mx\u001b[0m \u001b[0;34m=\u001b[0m \u001b[0mself\u001b[0m\u001b[0;34m.\u001b[0m\u001b[0m_peek_and_restore\u001b[0m\u001b[0;34m(\u001b[0m\u001b[0mx\u001b[0m\u001b[0;34m)\u001b[0m\u001b[0;34m\u001b[0m\u001b[0;34m\u001b[0m\u001b[0m\n\u001b[0m\u001b[1;32m    810\u001b[0m     \u001b[0mpeek\u001b[0m \u001b[0;34m=\u001b[0m \u001b[0mself\u001b[0m\u001b[0;34m.\u001b[0m\u001b[0m_standardize_batch\u001b[0m\u001b[0;34m(\u001b[0m\u001b[0mpeek\u001b[0m\u001b[0;34m)\u001b[0m\u001b[0;34m\u001b[0m\u001b[0;34m\u001b[0m\u001b[0m\n\u001b[1;32m    811\u001b[0m     \u001b[0mpeek\u001b[0m \u001b[0;34m=\u001b[0m \u001b[0m_process_tensorlike\u001b[0m\u001b[0;34m(\u001b[0m\u001b[0mpeek\u001b[0m\u001b[0;34m)\u001b[0m\u001b[0;34m\u001b[0m\u001b[0;34m\u001b[0m\u001b[0m\n",
      "\u001b[0;32m~/anaconda3/lib/python3.8/site-packages/tensorflow/python/keras/engine/data_adapter.py\u001b[0m in \u001b[0;36m_peek_and_restore\u001b[0;34m(x)\u001b[0m\n\u001b[1;32m    941\u001b[0m   \u001b[0;34m@\u001b[0m\u001b[0mstaticmethod\u001b[0m\u001b[0;34m\u001b[0m\u001b[0;34m\u001b[0m\u001b[0m\n\u001b[1;32m    942\u001b[0m   \u001b[0;32mdef\u001b[0m \u001b[0m_peek_and_restore\u001b[0m\u001b[0;34m(\u001b[0m\u001b[0mx\u001b[0m\u001b[0;34m)\u001b[0m\u001b[0;34m:\u001b[0m\u001b[0;34m\u001b[0m\u001b[0;34m\u001b[0m\u001b[0m\n\u001b[0;32m--> 943\u001b[0;31m     \u001b[0;32mreturn\u001b[0m \u001b[0mx\u001b[0m\u001b[0;34m[\u001b[0m\u001b[0;36m0\u001b[0m\u001b[0;34m]\u001b[0m\u001b[0;34m,\u001b[0m \u001b[0mx\u001b[0m\u001b[0;34m\u001b[0m\u001b[0;34m\u001b[0m\u001b[0m\n\u001b[0m\u001b[1;32m    944\u001b[0m \u001b[0;34m\u001b[0m\u001b[0m\n\u001b[1;32m    945\u001b[0m   def _handle_multiprocessing(self, x, workers, use_multiprocessing,\n",
      "\u001b[0;32m~/.local/lib/python3.8/site-packages/keras_preprocessing/image/iterator.py\u001b[0m in \u001b[0;36m__getitem__\u001b[0;34m(self, idx)\u001b[0m\n\u001b[1;32m     52\u001b[0m     \u001b[0;32mdef\u001b[0m \u001b[0m__getitem__\u001b[0m\u001b[0;34m(\u001b[0m\u001b[0mself\u001b[0m\u001b[0;34m,\u001b[0m \u001b[0midx\u001b[0m\u001b[0;34m)\u001b[0m\u001b[0;34m:\u001b[0m\u001b[0;34m\u001b[0m\u001b[0;34m\u001b[0m\u001b[0m\n\u001b[1;32m     53\u001b[0m         \u001b[0;32mif\u001b[0m \u001b[0midx\u001b[0m \u001b[0;34m>=\u001b[0m \u001b[0mlen\u001b[0m\u001b[0;34m(\u001b[0m\u001b[0mself\u001b[0m\u001b[0;34m)\u001b[0m\u001b[0;34m:\u001b[0m\u001b[0;34m\u001b[0m\u001b[0;34m\u001b[0m\u001b[0m\n\u001b[0;32m---> 54\u001b[0;31m             raise ValueError('Asked to retrieve element {idx}, '\n\u001b[0m\u001b[1;32m     55\u001b[0m                              \u001b[0;34m'but the Sequence '\u001b[0m\u001b[0;34m\u001b[0m\u001b[0;34m\u001b[0m\u001b[0m\n\u001b[1;32m     56\u001b[0m                              'has length {length}'.format(idx=idx,\n",
      "\u001b[0;31mValueError\u001b[0m: Asked to retrieve element 0, but the Sequence has length 0"
     ]
    }
   ],
   "source": [
    "make_prediction(\"/mnt/data/data/POL/img_POL_50.114902597259785,21.71049290647834_180.jpg\", model)"
   ]
  },
  {
   "cell_type": "code",
   "execution_count": 28,
   "id": "southwest-catch",
   "metadata": {},
   "outputs": [
    {
     "data": {
      "text/plain": [
       "<AxesSubplot:xlabel='label', ylabel='count'>"
      ]
     },
     "execution_count": 28,
     "metadata": {},
     "output_type": "execute_result"
    },
    {
     "data": {
      "image/png": "[encoded data removed]",
      "text/plain": [
       "<Figure size 864x288 with 1 Axes>"
      ]
     },
     "metadata": {},
     "output_type": "display_data"
    }
   ],
   "source": [
    "import seaborn as sns\n",
    "plt.figure(figsize=(12,4))\n",
    "sns.countplot(x='label', data=train_df)"
   ]
  },
  {
   "cell_type": "code",
   "execution_count": 29,
   "id": "premium-audit",
   "metadata": {},
   "outputs": [
    {
     "name": "stdout",
     "output_type": "stream",
     "text": [
      "on valid data\n"
     ]
    },
    {
     "ename": "NameError",
     "evalue": "name 'X_valid' is not defined",
     "output_type": "error",
     "traceback": [
      "\u001b[0;31m---------------------------------------------------------------------------\u001b[0m",
      "\u001b[0;31mNameError\u001b[0m                                 Traceback (most recent call last)",
      "\u001b[0;32m<ipython-input-29-2b6908cfb5c8>\u001b[0m in \u001b[0;36m<module>\u001b[0;34m\u001b[0m\n\u001b[1;32m      1\u001b[0m \u001b[0mprint\u001b[0m\u001b[0;34m(\u001b[0m\u001b[0;34m\"on valid data\"\u001b[0m\u001b[0;34m)\u001b[0m\u001b[0;34m\u001b[0m\u001b[0;34m\u001b[0m\u001b[0m\n\u001b[0;32m----> 2\u001b[0;31m \u001b[0mpred1\u001b[0m\u001b[0;34m=\u001b[0m\u001b[0mmodel\u001b[0m\u001b[0;34m.\u001b[0m\u001b[0mevaluate\u001b[0m\u001b[0;34m(\u001b[0m\u001b[0mX_valid\u001b[0m\u001b[0;34m,\u001b[0m\u001b[0mY_valid\u001b[0m\u001b[0;34m)\u001b[0m\u001b[0;34m\u001b[0m\u001b[0;34m\u001b[0m\u001b[0m\n\u001b[0m\u001b[1;32m      3\u001b[0m \u001b[0mprint\u001b[0m\u001b[0;34m(\u001b[0m\u001b[0;34m\"accuaracy\"\u001b[0m\u001b[0;34m,\u001b[0m \u001b[0mstr\u001b[0m\u001b[0;34m(\u001b[0m\u001b[0mpred1\u001b[0m\u001b[0;34m[\u001b[0m\u001b[0;36m1\u001b[0m\u001b[0;34m]\u001b[0m\u001b[0;34m*\u001b[0m\u001b[0;36m100\u001b[0m\u001b[0;34m)\u001b[0m\u001b[0;34m)\u001b[0m\u001b[0;34m\u001b[0m\u001b[0;34m\u001b[0m\u001b[0m\n\u001b[1;32m      4\u001b[0m \u001b[0mprint\u001b[0m\u001b[0;34m(\u001b[0m\u001b[0;34m\"Total loss\"\u001b[0m\u001b[0;34m,\u001b[0m\u001b[0mstr\u001b[0m\u001b[0;34m(\u001b[0m\u001b[0mpred1\u001b[0m\u001b[0;34m[\u001b[0m\u001b[0;36m0\u001b[0m\u001b[0;34m]\u001b[0m\u001b[0;34m*\u001b[0m\u001b[0;36m100\u001b[0m\u001b[0;34m)\u001b[0m\u001b[0;34m)\u001b[0m\u001b[0;34m\u001b[0m\u001b[0;34m\u001b[0m\u001b[0m\n",
      "\u001b[0;31mNameError\u001b[0m: name 'X_valid' is not defined"
     ]
    }
   ],
   "source": [
    "print(\"on valid data\")\n",
    "pred1=model.evaluate(X_valid,Y_valid)\n",
    "print(\"accuaracy\", str(pred1[1]*100))\n",
    "print(\"Total loss\",str(pred1[0]*100))\n"
   ]
  },
  {
   "cell_type": "code",
   "execution_count": null,
   "id": "indoor-weekend",
   "metadata": {},
   "outputs": [],
   "source": []
  }
 ],
 "metadata": {
  "kernelspec": {
   "display_name": "Python 3",
   "language": "python",
   "name": "python3"
  },
  "language_info": {
   "codemirror_mode": {
    "name": "ipython",
    "version": 3
   },
   "file_extension": ".py",
   "mimetype": "text/x-python",
   "name": "python",
   "nbconvert_exporter": "python",
   "pygments_lexer": "ipython3",
   "version": "3.8.8"
  }
 },
 "nbformat": 4,
 "nbformat_minor": 5
}
