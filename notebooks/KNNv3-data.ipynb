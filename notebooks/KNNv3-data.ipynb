{
 "cells": [
  {
   "cell_type": "code",
   "execution_count": 1,
   "id": "approved-karaoke",
   "metadata": {},
   "outputs": [],
   "source": [
    "from sklearn import preprocessing, datasets, neighbors\n",
    "from sklearn.model_selection import train_test_split, cross_val_predict\n",
    "from sklearn.neighbors import KNeighborsClassifier\n",
    "import matplotlib.pyplot as plt\n",
    "import seaborn as sns\n",
    "import pandas as pd\n",
    "import pathlib\n",
    "import os\n",
    "import numpy as np\n",
    "from keras.preprocessing import image\n",
    "from skimage.io import imread\n",
    "import cv2 as cv\n",
    "from mlxtend.plotting import plot_decision_regions"
   ]
  },
  {
   "cell_type": "code",
   "execution_count": 2,
   "id": "single-billy",
   "metadata": {},
   "outputs": [],
   "source": [
    "def load_image_files(container_path):\n",
    "    image_dir = pathlib.Path(container_path)\n",
    "    folders = [directory for directory in image_dir.iterdir() if directory.is_dir()]\n",
    "    categories = [fo.name for fo in folders]\n",
    "\n",
    "    descr = \"A image classification dataset\"\n",
    "    images = []\n",
    "    flat_data = []\n",
    "    target = []\n",
    "    count = 0\n",
    "    train_img = []\n",
    "    train_label = []\n",
    "    catStringArr = []\n",
    "    for i, direc in enumerate(folders):\n",
    "        for file in direc.iterdir():\n",
    "            count += 1\n",
    "            img = imread(file)\n",
    "            img_pred = get_channels_hist_of_img(img)\n",
    "            train_img.append(img_pred)\n",
    "            train_label.append(os.path.basename(os.path.normpath(direc)))\n",
    "            \n",
    "\n",
    "    X = np.array(train_img)\n",
    "    y = np.array(train_label)\n",
    "\n",
    "    return X, y, categories\n"
   ]
  },
  {
   "cell_type": "code",
   "execution_count": 3,
   "id": "1f5f25cd",
   "metadata": {},
   "outputs": [],
   "source": [
    "def get_channels_hist_of_img(image):\n",
    "    blue = cv.calcHist([image],[0],None,[256],[0,256])\n",
    "    green = cv.calcHist([image],[1],None,[256],[0,256])\n",
    "    red = cv.calcHist([image],[2],None,[256],[0,256])\n",
    "    return [blue, green, red]"
   ]
  },
  {
   "cell_type": "code",
   "execution_count": 4,
   "id": "ongoing-tours",
   "metadata": {},
   "outputs": [],
   "source": [
    "X = []\n",
    "y = []\n",
    "X, y, labelStringArr = load_image_files(\"/home/pascal_steiger/Downloads/data/\")"
   ]
  },
  {
   "cell_type": "code",
   "execution_count": 5,
   "id": "allied-dutch",
   "metadata": {},
   "outputs": [
    {
     "name": "stdout",
     "output_type": "stream",
     "text": [
      "['MKD', 'HRV', 'ISL', 'IRL', 'ITA', 'HUN', 'LVA', 'GBR', 'FRA', 'LTU', 'AUT', 'SVN', 'FIN', 'ESP', 'NOR', 'BGR', 'PRT', 'SVK', 'BEL', 'EST', 'POL', 'CZE', 'NLD', 'CHE', 'DNK', 'SWE']\n",
      "X_train: (21234, 3, 256, 1)\n",
      "X_test: (5309, 3, 256, 1)\n",
      "y_train: (21234,)\n",
      "y_test: (5309,)\n",
      "X_train: (21234, 768)\n",
      "X_test: (5309, 768)\n",
      "y_train: (21234,)\n",
      "y_test: (5309,)\n"
     ]
    }
   ],
   "source": [
    "X_train, X_test, y_train, y_test = train_test_split(X, y, random_state=42, test_size=0.2)\n",
    "print(labelStringArr)\n",
    "print(\"X_train: \"+str(X_train.shape))\n",
    "print(\"X_test: \"+str(X_test.shape))\n",
    "print(\"y_train: \"+str(y_train.shape))\n",
    "print(\"y_test: \"+str(y_test.shape))\n",
    "\n",
    "from builtins import range\n",
    "from builtins import object\n",
    "\n",
    "num_training = X_train.shape[0]\n",
    "mask = list(range(num_training))\n",
    "X_train = X_train[mask]\n",
    "y_train = y_train[mask]\n",
    "\n",
    "num_test = X_test.shape[0]\n",
    "mask = list(range(num_test))\n",
    "X_test = X_test[mask]\n",
    "y_test = y_test[mask]\n",
    "\n",
    "# Reshape the image data into rows\n",
    "X_train = np.reshape(X_train, (X_train.shape[0], -1))\n",
    "X_test = np.reshape(X_test, (X_test.shape[0], -1))\n",
    "\n",
    "print(\"X_train: \"+str(X_train.shape))\n",
    "print(\"X_test: \"+str(X_test.shape))\n",
    "print(\"y_train: \"+str(y_train.shape))\n",
    "print(\"y_test: \"+str(y_test.shape))"
   ]
  },
  {
   "cell_type": "code",
   "execution_count": 6,
   "id": "backed-superior",
   "metadata": {},
   "outputs": [],
   "source": [
    "lix = []\n",
    "liy = []\n",
    "index=0\n",
    "acc=0\n",
    "from sklearn.neighbors import KNeighborsClassifier\n",
    "for k in range(1, 100):\n",
    "    neigh = KNeighborsClassifier(n_neighbors=k)\n",
    "    neigh.fit(X_train, y_train)\n",
    "    liy.append(neigh.score(X_test, y_test))\n",
    "    if liy[k-1]>acc:\n",
    "        acc=liy[k-1]\n",
    "        index=k-1\n",
    "    lix.append(k)"
   ]
  },
  {
   "cell_type": "code",
   "execution_count": 8,
   "id": "399a353c",
   "metadata": {},
   "outputs": [
    {
     "data": {
      "image/png": "[encoded data removed]",
      "text/plain": [
       "<Figure size 432x288 with 1 Axes>"
      ]
     },
     "metadata": {
      "needs_background": "light"
     },
     "output_type": "display_data"
    },
    {
     "name": "stdout",
     "output_type": "stream",
     "text": [
      "Maximale Genauigkeit bei k=12 und einer Genauigkeit von 0.1702768883028819\n"
     ]
    }
   ],
   "source": [
    "plt.plot(lix, liy)\n",
    "plt.xlabel(\"Anzahl betrachteter Nachbarn\")\n",
    "plt.ylabel(\"Genauigkeit\")\n",
    "plt.savefig(\"KNNv3-data.png\", dpi=300)\n",
    "plt.show()\n",
    "print(\"Maximale Genauigkeit bei k=\"+str(index+1)+\" und einer Genauigkeit von \"+str(acc))"
   ]
  },
  {
   "cell_type": "code",
   "execution_count": 9,
   "id": "agreed-simpson",
   "metadata": {},
   "outputs": [
    {
     "name": "stdout",
     "output_type": "stream",
     "text": [
      "Test Accuracy: 0.1661329817291392\n"
     ]
    }
   ],
   "source": [
    "neigh = KNeighborsClassifier(n_neighbors=20)\n",
    "neigh.fit(X_train, y_train)\n",
    "print(\"Test Accuracy: \"+str(neigh.score(X_test, y_test)))"
   ]
  },
  {
   "cell_type": "code",
   "execution_count": 10,
   "id": "f0a64f99",
   "metadata": {},
   "outputs": [
    {
     "name": "stdout",
     "output_type": "stream",
     "text": [
      "['AUT', 'BEL', 'BGR', 'CHE', 'CZE', 'DNK', 'ESP', 'EST', 'FIN', 'FRA', 'GBR', 'HRV', 'HUN', 'IRL', 'ISL', 'ITA', 'LTU', 'LVA', 'MKD', 'NLD', 'NOR', 'POL', 'PRT', 'SVK', 'SVN', 'SWE']\n",
      "[[ 33   9   9   8   4  11  14  11   0   2   2   5   1   7   6   7   4  12\n",
      "    4   4  15   3   5   7   6   6]\n",
      " [  4  21  10   3   6  12  11  10   4   8   9   4   4  24   6  10   2   6\n",
      "    2   2   6   4   6   2   7   4]\n",
      " [  3   8  51   3   1   4  21   9   2   4   0  11   2   3  17   4   2  12\n",
      "   22   1   0   2   7   9   5   2]\n",
      " [  5   6  10  21   5   2  15  19   3   7   5   7   5   2   4   2   7  15\n",
      "   15   1   1   5   4  13  13   2]\n",
      " [  5  17   7   7  16  11  20  14   5   2   5   6   8  14  12   6   4   8\n",
      "    6   3  10   7   8   6   7   3]\n",
      " [  7  17   5   4   4  32   7   8   9   5   8   6   6  19   7   3   2   8\n",
      "    1   4  17   2   5   4   3   3]\n",
      " [ 10   6  46   7  11   4  57  12   3  10   2  13   9   8  13   5   7  18\n",
      "   24   2   9   9   9   7   3   3]\n",
      " [  2   1   6   6   2   2   6  44   2  12   3  10   0   2  13   2  11  19\n",
      "    7   2   0   7   4   8  12   5]\n",
      " [  6  15  15   6  10  11  14  16  30   3   3   9   6  17   3   7   1   8\n",
      "    1   4   6   2   9   1   4   9]\n",
      " [  4  17  10   5   9   9   8  10   6  16  17   9   6  16   5  11   3   5\n",
      "    6   5   8   3   6   6   5   2]\n",
      " [  4  16   5   5   9   7  13   5   7  11  14   4   5  47  10   4   3   2\n",
      "    5   3   3   2   0   1   7   2]\n",
      " [  4   3  24   3   5   2  19  17   3   3   2  20   5   3  12   3   6  12\n",
      "    9   2   1   3   2   6  10   5]\n",
      " [  2  17  15   6  13  10  11   6   2   4   3   9  30  12  14   8   6   6\n",
      "    6   1   6   0   3   7   3   2]\n",
      " [  3  17   2   1   6  11   8   8   8   9  10   2   2  99   2  10   0   2\n",
      "    0   5   6   1   3   0   2   2]\n",
      " [  2   1  16   6   6   0  13   5   4   4   1   4   9   1 130   1   3   3\n",
      "    2   1   1   5   0   4   1   0]\n",
      " [ 10  20   5   3   5   7   9   7   5   9   7   8   5  18   4  16   2   7\n",
      "    8   2   9   2  11   3   8   1]\n",
      " [  2   6  13   8   5   2  13  29   3   7   5   8   3   4   9   2  24  29\n",
      "    9   1   0   5   1   4   6   3]\n",
      " [  3   7  14   5   7   0  16  43   6   9   1  12   2   0  14   1  13  29\n",
      "    8   3   1   6   2   4   7   2]\n",
      " [  6   5  20   2   4   0  10  17   0   2   2  14   1   0   4   5   5  17\n",
      "   38   4   3   2   3  18   2   7]\n",
      " [  2  22   7   7  11  11   7  16   5  12   8   5   4  19  10   7   3   6\n",
      "    2   7   5   4   4   3   8   3]\n",
      " [  5  17   5   2  14   7  12   9   7   6   5  10   8  26   1   7   2   6\n",
      "    1   1  47   6   5   2   4   2]\n",
      " [ 11   6  11   6  11   3  22  20   5   7   2   8   5   2  14   2  10   8\n",
      "    3   6   1  22   5  15   8   3]\n",
      " [  3   6  13   3   6   8  20   8   3   2   4   7   4   4   8  10   0  10\n",
      "    5   1   7   5  21   4   2   2]\n",
      " [  6   2  14   6   5   2  25  17   2   6   3  12   7   1   6   1   5   9\n",
      "   17   4   1   7   2  17   9   2]\n",
      " [  4   1  15   5   3   2  11  23   3   6   1  10   4   3   2   6   4  20\n",
      "   12   4   0   8   3   8  32   1]\n",
      " [ 10  11   8   6   7  12   9  16   8   8   6  12   3   6   4   3   5   8\n",
      "    4   4   9   6  10   2   9  15]]\n"
     ]
    }
   ],
   "source": [
    "from sklearn.metrics import confusion_matrix\n",
    "preds = neigh.predict(X_test)\n",
    "print(sorted(labelStringArr))\n",
    "print(confusion_matrix(y_test, preds, labels=sorted(labelStringArr)))"
   ]
  },
  {
   "cell_type": "code",
   "execution_count": 12,
   "id": "7733846f",
   "metadata": {},
   "outputs": [
    {
     "name": "stdout",
     "output_type": "stream",
     "text": [
      "              precision    recall  f1-score   support\n",
      "\n",
      "         AUT       0.21      0.17      0.19       195\n",
      "         BEL       0.08      0.11      0.09       187\n",
      "         BGR       0.14      0.25      0.18       205\n",
      "         CHE       0.15      0.11      0.12       194\n",
      "         CZE       0.09      0.07      0.08       217\n",
      "         DNK       0.18      0.16      0.17       196\n",
      "         ESP       0.15      0.19      0.16       307\n",
      "         EST       0.11      0.23      0.15       188\n",
      "         FIN       0.22      0.14      0.17       216\n",
      "         FRA       0.09      0.08      0.08       207\n",
      "         GBR       0.11      0.07      0.09       194\n",
      "         HRV       0.09      0.11      0.10       184\n",
      "         HUN       0.21      0.15      0.17       202\n",
      "         IRL       0.28      0.45      0.34       219\n",
      "         ISL       0.39      0.58      0.47       223\n",
      "         ITA       0.11      0.08      0.10       191\n",
      "         LTU       0.18      0.12      0.14       201\n",
      "         LVA       0.10      0.13      0.12       215\n",
      "         MKD       0.18      0.20      0.19       191\n",
      "         NLD       0.09      0.04      0.05       198\n",
      "         NOR       0.27      0.22      0.24       217\n",
      "         POL       0.17      0.10      0.13       216\n",
      "         PRT       0.15      0.13      0.14       166\n",
      "         SVK       0.11      0.09      0.10       188\n",
      "         SVN       0.17      0.17      0.17       191\n",
      "         SWE       0.16      0.07      0.10       201\n",
      "\n",
      "    accuracy                           0.17      5309\n",
      "   macro avg       0.16      0.16      0.16      5309\n",
      "weighted avg       0.16      0.17      0.16      5309\n",
      "\n"
     ]
    }
   ],
   "source": [
    "from sklearn.metrics import classification_report\n",
    "target_names = sorted(labelStringArr)\n",
    "print(classification_report(y_test, preds, target_names=sorted(labelStringArr)))"
   ]
  },
  {
   "cell_type": "code",
   "execution_count": null,
   "id": "48f1c4ba",
   "metadata": {},
   "outputs": [],
   "source": []
  }
 ],
 "metadata": {
  "kernelspec": {
   "display_name": "Python 3",
   "language": "python",
   "name": "python3"
  },
  "language_info": {
   "codemirror_mode": {
    "name": "ipython",
    "version": 3
   },
   "file_extension": ".py",
   "mimetype": "text/x-python",
   "name": "python",
   "nbconvert_exporter": "python",
   "pygments_lexer": "ipython3",
   "version": "3.8.8"
  }
 },
 "nbformat": 4,
 "nbformat_minor": 5
}
